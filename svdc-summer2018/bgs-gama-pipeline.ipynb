{
 "cells": [
  {
   "cell_type": "markdown",
   "metadata": {},
   "source": [
    "# Survey Validation Data Challenge - Summer 2018\n",
    "\n",
    "### Notebook 2 -- Tile the BGS/GAMA Fields and run survey simulations\n",
    "\n",
    "The purpose of this notebook is to simulate DESI-like spectra of BGS targets bootstrapped from an input set of GAMA targets and redshifts, and then to run the spectra through the full DESI pipeline."
   ]
  },
  {
   "cell_type": "code",
   "execution_count": 22,
   "metadata": {},
   "outputs": [],
   "source": [
    "import os, sys, time, subprocess\n",
    "import glob\n",
    "import numpy as np\n",
    "import healpy as hp\n",
    "import matplotlib.pyplot as plt"
   ]
  },
  {
   "cell_type": "code",
   "execution_count": 23,
   "metadata": {},
   "outputs": [],
   "source": [
    "import fitsio\n",
    "from astropy.table import Table"
   ]
  },
  {
   "cell_type": "code",
   "execution_count": 24,
   "metadata": {},
   "outputs": [],
   "source": [
    "import seaborn as sns\n",
    "sns.set(style='ticks', font_scale=1.6, palette='Set2')"
   ]
  },
  {
   "cell_type": "code",
   "execution_count": 25,
   "metadata": {},
   "outputs": [],
   "source": [
    "%matplotlib inline"
   ]
  },
  {
   "cell_type": "code",
   "execution_count": 26,
   "metadata": {},
   "outputs": [
    {
     "name": "stdout",
     "output_type": "stream",
     "text": [
      "Starting at Thu Aug 23 05:26:44 2018\n"
     ]
    }
   ],
   "source": [
    "print(\"Starting at {}\".format(time.asctime()))\n",
    "notebook_start_time = time.time()"
   ]
  },
  {
   "cell_type": "markdown",
   "metadata": {},
   "source": [
    "## Define various directories and input/output filenames.\n",
    "\n",
    "Define and create directories under `$DESI_ROOT/datachallenge/svdc-summer2018` and set environment variables for this mapping:\n",
    "\n",
    "| Directory             | NB variable   | Environment Variable                              |\n",
    "|-----------------------|---------------|---------------------------------------------------|\n",
    "| survey/               | surveydir     | \\$DESISURVEY_OUTPUT                               |\n",
    "| targets/              | targetdir     |                                                   |\n",
    "| fiberassign/          | fibassigndir  |                                                   |\n",
    "| spectro/redux/mini/   | reduxdir      | \\$DESI_SPECTRO_REDUX/\\$SPECPROD                   |\n",
    "| spectro/sim/mini/     | simdatadir    | \\$DESI_SPECTRO_DATA = \\$DESI_SPECTRO_SIM/$PIXPROD |"
   ]
  },
  {
   "cell_type": "code",
   "execution_count": 27,
   "metadata": {},
   "outputs": [],
   "source": [
    "if True:\n",
    "    basedir = os.path.join(os.getenv('SCRATCH'), 'svdc-summer2018')\n",
    "    codedir = os.path.join(os.getenv('SCRATCH'), 'repos', 'survey-validation', 'svdc-summer2018')\n",
    "else:\n",
    "    basedir = os.path.join(os.getenv('DESI_ROOT'), 'datachallenge', 'svdc-summer2018')\n",
    "    codedir = os.path.join(os.getenv('DESI_PRODUCT_ROOT'), 'survey-validation', 'svdc-summer2018')"
   ]
  },
  {
   "cell_type": "code",
   "execution_count": 28,
   "metadata": {},
   "outputs": [],
   "source": [
    "surveydir = os.path.join(basedir, 'survey')\n",
    "targetdir = os.path.join(basedir, 'targets')\n",
    "fibassigndir = os.path.join(basedir, 'fiberassign')\n",
    "\n",
    "os.environ['DESISURVEY_OUTPUT'] = surveydir\n",
    "os.environ['DESI_SPECTRO_REDUX'] = os.path.join(basedir, 'spectro', 'redux')\n",
    "os.environ['DESI_SPECTRO_SIM'] = os.path.join(basedir, 'spectro', 'sim')\n",
    "os.environ['PIXPROD'] = 'bgs-gama'\n",
    "os.environ['SPECPROD'] = 'bgs-gama'\n",
    "\n",
    "reduxdir = os.path.join(os.environ['DESI_SPECTRO_REDUX'], os.environ['SPECPROD'])\n",
    "simdatadir = os.path.join(os.environ['DESI_SPECTRO_SIM'], os.environ['PIXPROD'])\n",
    "os.environ['DESI_SPECTRO_DATA'] = simdatadir\n",
    "\n",
    "for dd in (surveydir, targetdir, fibassigndir, reduxdir, simdatadir):\n",
    "    os.makedirs(dd, exist_ok=True)"
   ]
  },
  {
   "cell_type": "code",
   "execution_count": 29,
   "metadata": {},
   "outputs": [],
   "source": [
    "samplefile = os.path.join(basedir, 'GAMA-DR3', 'bgs-gama-sample.fits')\n",
    "tilesfile = os.path.join(codedir, 'bgs-gama-tiles.fits')\n",
    "surveyconfigfile = os.path.join(codedir, 'survey-config.yaml')\n",
    "surveyrulesfile = os.path.join(codedir, 'rules.yaml')"
   ]
  },
  {
   "cell_type": "markdown",
   "metadata": {},
   "source": [
    "#### Specify the random seed for reproducibility of the survey simulations."
   ]
  },
  {
   "cell_type": "code",
   "execution_count": 30,
   "metadata": {},
   "outputs": [],
   "source": [
    "seed = 123"
   ]
  },
  {
   "cell_type": "code",
   "execution_count": 31,
   "metadata": {},
   "outputs": [],
   "source": [
    "nside_mock_targets = 64"
   ]
  },
  {
   "cell_type": "markdown",
   "metadata": {},
   "source": [
    "#### Specify which steps should be redone (only used if the output files already exist).\n",
    "\n",
    "If any of the following arguments are *True* then all the associated output files and plots will be recreated.  Warning: many of these steps are time-consuming (especially the mock spectra portion of the pipeline)."
   ]
  },
  {
   "cell_type": "code",
   "execution_count": 32,
   "metadata": {},
   "outputs": [],
   "source": [
    "overwrite_tiles = True\n",
    "overwrite_surveysim = True\n",
    "overwrite_mock_spectra = True\n",
    "overwrite_fiberassign = True\n",
    "overwrite_simspec = True"
   ]
  },
  {
   "cell_type": "markdown",
   "metadata": {},
   "source": [
    "## Read the parent sample of GAMA targets.\n",
    "This parent sample was written by the *bgs-gama-sample.ipynb* notebook."
   ]
  },
  {
   "cell_type": "code",
   "execution_count": 33,
   "metadata": {},
   "outputs": [],
   "source": [
    "def read_gama_sample():\n",
    "    if os.path.isfile(samplefile):\n",
    "        gama = Table(fitsio.read(samplefile, ext=1))\n",
    "        print('Read {} objects from {}'.format(len(gama), samplefile))\n",
    "    else:\n",
    "        print('Sample file {} not found!'.format(samplefile))\n",
    "        gama = []\n",
    "    return gama"
   ]
  },
  {
   "cell_type": "code",
   "execution_count": 34,
   "metadata": {},
   "outputs": [
    {
     "name": "stdout",
     "output_type": "stream",
     "text": [
      "Read 123646 objects from /global/cscratch1/sd/ioannis/svdc-summer2018/GAMA-DR3/bgs-gama-sample.fits\n"
     ]
    },
    {
     "data": {
      "text/html": [
       "&lt;Table length=123646&gt;\n",
       "<table id=\"table47825977736776\" class=\"table-striped table-bordered table-condensed\">\n",
       "<thead><tr><th>CATAID</th><th>GAMA_NAME</th><th>IC_FLAG</th><th>N_SPEC</th><th>N_GAMA_SPEC</th><th>DIST</th><th>SPECID</th><th>SURVEY</th><th>SURVEY_CODE</th><th>RA_GAMA</th><th>DEC_GAMA</th><th>WMIN</th><th>WMAX</th><th>Z</th><th>NQ</th><th>PROB</th><th>FILENAME</th><th>URL</th><th>URL_IMG</th><th>D4000N</th><th>HB_EW</th><th>HA_EW</th><th>FIELD</th><th>RELEASE</th><th>BRICKID</th><th>BRICKNAME</th><th>OBJID</th><th>TYPE</th><th>RA</th><th>DEC</th><th>RA_IVAR</th><th>DEC_IVAR</th><th>DCHISQ [5]</th><th>EBV</th><th>FLUX_U</th><th>FLUX_G</th><th>FLUX_R</th><th>FLUX_I</th><th>FLUX_Z</th><th>FLUX_Y</th><th>FLUX_W1</th><th>FLUX_W2</th><th>FLUX_W3</th><th>FLUX_W4</th><th>FLUX_IVAR_U</th><th>FLUX_IVAR_G</th><th>FLUX_IVAR_R</th><th>FLUX_IVAR_I</th><th>FLUX_IVAR_Z</th><th>FLUX_IVAR_Y</th><th>FLUX_IVAR_W1</th><th>FLUX_IVAR_W2</th><th>FLUX_IVAR_W3</th><th>FLUX_IVAR_W4</th><th>MW_TRANSMISSION_U</th><th>MW_TRANSMISSION_G</th><th>MW_TRANSMISSION_R</th><th>MW_TRANSMISSION_I</th><th>MW_TRANSMISSION_Z</th><th>MW_TRANSMISSION_Y</th><th>MW_TRANSMISSION_W1</th><th>MW_TRANSMISSION_W2</th><th>MW_TRANSMISSION_W3</th><th>MW_TRANSMISSION_W4</th><th>NOBS_U</th><th>NOBS_G</th><th>NOBS_R</th><th>NOBS_I</th><th>NOBS_Z</th><th>NOBS_Y</th><th>NOBS_W1</th><th>NOBS_W2</th><th>NOBS_W3</th><th>NOBS_W4</th><th>RCHISQ_U</th><th>RCHISQ_G</th><th>RCHISQ_R</th><th>RCHISQ_I</th><th>RCHISQ_Z</th><th>RCHISQ_Y</th><th>RCHISQ_W1</th><th>RCHISQ_W2</th><th>RCHISQ_W3</th><th>RCHISQ_W4</th><th>FRACFLUX_U</th><th>FRACFLUX_G</th><th>FRACFLUX_R</th><th>FRACFLUX_I</th><th>FRACFLUX_Z</th><th>FRACFLUX_Y</th><th>FRACFLUX_W1</th><th>FRACFLUX_W2</th><th>FRACFLUX_W3</th><th>FRACFLUX_W4</th><th>FRACMASKED_U</th><th>FRACMASKED_G</th><th>FRACMASKED_R</th><th>FRACMASKED_I</th><th>FRACMASKED_Z</th><th>FRACMASKED_Y</th><th>FRACIN_U</th><th>FRACIN_G</th><th>FRACIN_R</th><th>FRACIN_I</th><th>FRACIN_Z</th><th>FRACIN_Y</th><th>ANYMASK_U</th><th>ANYMASK_G</th><th>ANYMASK_R</th><th>ANYMASK_I</th><th>ANYMASK_Z</th><th>ANYMASK_Y</th><th>ALLMASK_U</th><th>ALLMASK_G</th><th>ALLMASK_R</th><th>ALLMASK_I</th><th>ALLMASK_Z</th><th>ALLMASK_Y</th><th>WISEMASK_W1</th><th>WISEMASK_W2</th><th>PSFSIZE_U</th><th>PSFSIZE_G</th><th>PSFSIZE_R</th><th>PSFSIZE_I</th><th>PSFSIZE_Z</th><th>PSFSIZE_Y</th><th>PSFDEPTH_U</th><th>PSFDEPTH_G</th><th>PSFDEPTH_R</th><th>PSFDEPTH_I</th><th>PSFDEPTH_Z</th><th>PSFDEPTH_Y</th><th>GALDEPTH_U</th><th>GALDEPTH_G</th><th>GALDEPTH_R</th><th>GALDEPTH_I</th><th>GALDEPTH_Z</th><th>GALDEPTH_Y</th><th>WISE_COADD_ID</th><th>FRACDEV</th><th>FRACDEV_IVAR</th><th>SHAPEDEV_R</th><th>SHAPEDEV_R_IVAR</th><th>SHAPEDEV_E1</th><th>SHAPEDEV_E1_IVAR</th><th>SHAPEDEV_E2</th><th>SHAPEDEV_E2_IVAR</th><th>SHAPEEXP_R</th><th>SHAPEEXP_R_IVAR</th><th>SHAPEEXP_E1</th><th>SHAPEEXP_E1_IVAR</th><th>SHAPEEXP_E2</th><th>SHAPEEXP_E2_IVAR</th><th>MAGGIES [3]</th><th>IVARMAGGIES [3]</th><th>BESTMAGGIES [3]</th><th>MASS</th><th>COEFFS [5]</th><th>CHI2</th><th>CFLUX_4861</th><th>CFLUX_6563</th><th>UGRIZ_ABSMAG_01 [5]</th><th>UGRIZ_ABSMAG_01_IVAR [5]</th><th>UGRIZ_KCORRECT_01 [5]</th></tr></thead>\n",
       "<thead><tr><th>int32</th><th>bytes23</th><th>int16</th><th>int16</th><th>int16</th><th>float32</th><th>bytes33</th><th>bytes9</th><th>int16</th><th>float64</th><th>float64</th><th>float32</th><th>float64</th><th>float32</th><th>int16</th><th>float32</th><th>bytes67</th><th>bytes88</th><th>bytes92</th><th>float32</th><th>float32</th><th>float32</th><th>bytes9</th><th>int32</th><th>int32</th><th>bytes8</th><th>int32</th><th>bytes4</th><th>float64</th><th>float64</th><th>float32</th><th>float32</th><th>float32</th><th>float32</th><th>float32</th><th>float32</th><th>float32</th><th>float32</th><th>float32</th><th>float32</th><th>float32</th><th>float32</th><th>float32</th><th>float32</th><th>float32</th><th>float32</th><th>float32</th><th>float32</th><th>float32</th><th>float32</th><th>float32</th><th>float32</th><th>float32</th><th>float32</th><th>float32</th><th>float32</th><th>float32</th><th>float32</th><th>float32</th><th>float32</th><th>float32</th><th>float32</th><th>float32</th><th>float32</th><th>int16</th><th>int16</th><th>int16</th><th>int16</th><th>int16</th><th>int16</th><th>int16</th><th>int16</th><th>int16</th><th>int16</th><th>float32</th><th>float32</th><th>float32</th><th>float32</th><th>float32</th><th>float32</th><th>float32</th><th>float32</th><th>float32</th><th>float32</th><th>float32</th><th>float32</th><th>float32</th><th>float32</th><th>float32</th><th>float32</th><th>float32</th><th>float32</th><th>float32</th><th>float32</th><th>float32</th><th>float32</th><th>float32</th><th>float32</th><th>float32</th><th>float32</th><th>float32</th><th>float32</th><th>float32</th><th>float32</th><th>float32</th><th>float32</th><th>int16</th><th>int16</th><th>int16</th><th>int16</th><th>int16</th><th>int16</th><th>int16</th><th>int16</th><th>int16</th><th>int16</th><th>int16</th><th>int16</th><th>uint8</th><th>uint8</th><th>float32</th><th>float32</th><th>float32</th><th>float32</th><th>float32</th><th>float32</th><th>float32</th><th>float32</th><th>float32</th><th>float32</th><th>float32</th><th>float32</th><th>float32</th><th>float32</th><th>float32</th><th>float32</th><th>float32</th><th>float32</th><th>bytes8</th><th>float32</th><th>float32</th><th>float32</th><th>float32</th><th>float32</th><th>float32</th><th>float32</th><th>float32</th><th>float32</th><th>float32</th><th>float32</th><th>float32</th><th>float32</th><th>float32</th><th>float32</th><th>float32</th><th>float32</th><th>float32</th><th>float32</th><th>float32</th><th>float32</th><th>float32</th><th>float32</th><th>float32</th><th>float32</th></tr></thead>\n",
       "<tr><td>6802</td><td>GAMAJ113601.43+004315.3</td><td>4104</td><td>1</td><td>1</td><td>0.07</td><td>G12_Y3_017_187</td><td>GAMA</td><td>5</td><td>174.006</td><td>0.72093</td><td>3727.71</td><td>8857.67</td><td>0.05054</td><td>4</td><td>1.0</td><td>/GAMA/dr3/data/spectra/gama/reduced_27/1d/G12_Y3_017_187.fit</td><td>http://www.gama-survey.org/dr3/data/spectra/gama/reduced_27/1d/G12_Y3_017_187.fit</td><td>http://www.gama-survey.org/dr3/data/spectra/gama/reduced_27/1d/png/G12_Y3_017_187.png</td><td>1.81131</td><td>5.20334</td><td>27.8028</td><td>G12</td><td>5000</td><td>335384</td><td>1741p007</td><td>1933</td><td>EXP</td><td>174.005986224</td><td>0.72093939323</td><td>6.98847e+12</td><td>4.19143e+12</td><td>419401.0 .. 536836.0</td><td>0.0223431</td><td>0.0</td><td>21.8932</td><td>36.975</td><td>0.0</td><td>53.059</td><td>0.0</td><td>34.9711</td><td>24.9659</td><td>34.9948</td><td>13.339</td><td>0.0</td><td>312.894</td><td>194.109</td><td>0.0</td><td>48.3468</td><td>0.0</td><td>1.45916</td><td>0.288661</td><td>0.000888833</td><td>2.01304e-05</td><td>0.921076</td><td>0.936</td><td>0.956425</td><td>0.967769</td><td>0.975387</td><td>0.978342</td><td>0.996221</td><td>0.997677</td><td>0.999504</td><td>0.999813</td><td>0</td><td>7</td><td>7</td><td>0</td><td>6</td><td>0</td><td>71</td><td>71</td><td>14</td><td>14</td><td>0.0</td><td>1.26588</td><td>1.34202</td><td>0.0</td><td>1.43137</td><td>0.0</td><td>1.38022</td><td>0.931167</td><td>0.514855</td><td>0.223534</td><td>0.0</td><td>1.74706e-09</td><td>-2.69563e-09</td><td>0.0</td><td>-1.60942e-09</td><td>0.0</td><td>0.00462063</td><td>0.02367</td><td>0.425635</td><td>19.0078</td><td>0.0</td><td>0.00590022</td><td>0.00641236</td><td>0.0</td><td>0.00359081</td><td>0.0</td><td>0.0</td><td>1.01567</td><td>1.01286</td><td>0.0</td><td>1.02181</td><td>0.0</td><td>0</td><td>0</td><td>0</td><td>0</td><td>0</td><td>0</td><td>0</td><td>0</td><td>0</td><td>0</td><td>0</td><td>0</td><td>0</td><td>0</td><td>0.0</td><td>1.6335</td><td>1.44952</td><td>0.0</td><td>1.29571</td><td>0.0</td><td>0.0</td><td>1324.01</td><td>779.469</td><td>0.0</td><td>167.377</td><td>0.0</td><td>0.0</td><td>906.086</td><td>498.571</td><td>0.0</td><td>95.9998</td><td>0.0</td><td>1739p000</td><td>0.0</td><td>0.0</td><td>0.0</td><td>0.0</td><td>0.0</td><td>0.0</td><td>0.0</td><td>0.0</td><td>1.12256</td><td>188998.0</td><td>0.262922</td><td>211025.0</td><td>0.33455</td><td>229811.0</td><td>2.33902e-08 .. 5.43979e-08</td><td>2.74125e+20 .. 4.59961e+19</td><td>2.36344e-08 .. 5.52139e-08</td><td>9.19248</td><td>5.42098e-09 .. 1.93679e-07</td><td>98.6875</td><td>1.2176e-16</td><td>9.94478e-17</td><td>-16.2254 .. -18.4829</td><td>127224.0 .. 115462.0</td><td>-1.45593 .. -0.114768</td></tr>\n",
       "<tr><td>6806</td><td>GAMAJ113605.47+004221.3</td><td>4104</td><td>1</td><td>1</td><td>0.07</td><td>G12_Y1_AN1_238</td><td>GAMA</td><td>5</td><td>174.02279</td><td>0.70594</td><td>3727.79</td><td>8856.73</td><td>0.33124</td><td>4</td><td>1.0</td><td>/GAMA/dr3/data/spectra/gama/reduced_27/1d/G12_Y1_AN1_238.fit</td><td>http://www.gama-survey.org/dr3/data/spectra/gama/reduced_27/1d/G12_Y1_AN1_238.fit</td><td>http://www.gama-survey.org/dr3/data/spectra/gama/reduced_27/1d/png/G12_Y1_AN1_238.png</td><td>1.21872</td><td>1.90933</td><td>21.2073</td><td>G12</td><td>5000</td><td>335384</td><td>1741p007</td><td>1539</td><td>EXP</td><td>174.022819745</td><td>0.705978654443</td><td>1.27723e+12</td><td>9.56888e+11</td><td>147304.0 .. 235038.0</td><td>0.0221235</td><td>0.0</td><td>14.2379</td><td>37.9226</td><td>0.0</td><td>76.8652</td><td>0.0</td><td>100.628</td><td>84.9273</td><td>380.782</td><td>911.13</td><td>0.0</td><td>203.498</td><td>102.506</td><td>0.0</td><td>11.7194</td><td>0.0</td><td>1.27896</td><td>0.264659</td><td>0.000863848</td><td>2.08829e-05</td><td>0.921821</td><td>0.936608</td><td>0.956844</td><td>0.968081</td><td>0.975626</td><td>0.978553</td><td>0.996258</td><td>0.9977</td><td>0.999509</td><td>0.999815</td><td>0</td><td>7</td><td>7</td><td>0</td><td>4</td><td>0</td><td>72</td><td>72</td><td>15</td><td>15</td><td>0.0</td><td>1.13413</td><td>1.57576</td><td>0.0</td><td>2.58647</td><td>0.0</td><td>2.20904</td><td>1.35501</td><td>0.813951</td><td>0.155343</td><td>0.0</td><td>6.55179e-05</td><td>5.2756e-05</td><td>0.0</td><td>4.55499e-05</td><td>0.0</td><td>0.0191834</td><td>0.027891</td><td>0.0794624</td><td>0.83267</td><td>0.0</td><td>0.215581</td><td>0.0915212</td><td>0.0</td><td>0.00375092</td><td>0.0</td><td>0.0</td><td>0.98731</td><td>1.00654</td><td>0.0</td><td>1.02122</td><td>0.0</td><td>0</td><td>513</td><td>513</td><td>0</td><td>0</td><td>0</td><td>0</td><td>0</td><td>0</td><td>0</td><td>0</td><td>0</td><td>0</td><td>0</td><td>0.0</td><td>1.63736</td><td>1.44738</td><td>0.0</td><td>1.3192</td><td>0.0</td><td>0.0</td><td>1216.69</td><td>715.955</td><td>0.0</td><td>84.8879</td><td>0.0</td><td>0.0</td><td>833.739</td><td>457.497</td><td>0.0</td><td>48.1787</td><td>0.0</td><td>1739p000</td><td>0.0</td><td>0.0</td><td>0.0</td><td>0.0</td><td>0.0</td><td>0.0</td><td>0.0</td><td>0.0</td><td>1.58863</td><td>81983.1</td><td>0.114614</td><td>306824.0</td><td>0.0227239</td><td>142385.0</td><td>1.52016e-08 .. 7.87856e-08</td><td>1.78516e+20 .. 1.11551e+19</td><td>1.52016e-08 .. 7.87856e-08</td><td>11.1886</td><td>5.19618e-06 .. 9.0538e-08</td><td>0.0625</td><td>1.42891e-16</td><td>1.37468e-16</td><td>-20.931 .. -23.4694</td><td>34994.9 .. 58737.7</td><td>-0.728269 .. 0.0237063</td></tr>\n",
       "<tr><td>6808</td><td>GAMAJ113624.17+003932.1</td><td>4104</td><td>1</td><td>1</td><td>0.08</td><td>G12_Y1_AN1_235</td><td>GAMA</td><td>5</td><td>174.10071</td><td>0.65891</td><td>3727.79</td><td>8856.73</td><td>0.22936</td><td>4</td><td>1.0</td><td>/GAMA/dr3/data/spectra/gama/reduced_27/1d/G12_Y1_AN1_235.fit</td><td>http://www.gama-survey.org/dr3/data/spectra/gama/reduced_27/1d/G12_Y1_AN1_235.fit</td><td>http://www.gama-survey.org/dr3/data/spectra/gama/reduced_27/1d/png/G12_Y1_AN1_235.png</td><td>1.66048</td><td>-0.434862</td><td>0.110285</td><td>G12</td><td>5000</td><td>335384</td><td>1741p007</td><td>712</td><td>DEV</td><td>174.100728883</td><td>0.658923425384</td><td>1.37223e+12</td><td>1.23882e+12</td><td>139106.0 .. 152201.0</td><td>0.0215259</td><td>0.0</td><td>11.6119</td><td>35.3948</td><td>0.0</td><td>69.9279</td><td>0.0</td><td>66.642</td><td>48.8641</td><td>101.157</td><td>45.5587</td><td>0.0</td><td>77.4143</td><td>54.4786</td><td>0.0</td><td>19.2192</td><td>0.0</td><td>0.976349</td><td>0.203764</td><td>0.000596311</td><td>1.63985e-05</td><td>0.92385</td><td>0.938267</td><td>0.957985</td><td>0.96893</td><td>0.976277</td><td>0.979126</td><td>0.996359</td><td>0.997762</td><td>0.999522</td><td>0.99982</td><td>0</td><td>2</td><td>3</td><td>0</td><td>5</td><td>0</td><td>69</td><td>70</td><td>13</td><td>13</td><td>0.0</td><td>0.812982</td><td>1.11843</td><td>0.0</td><td>1.44138</td><td>0.0</td><td>0.872057</td><td>0.978928</td><td>0.757001</td><td>0.206127</td><td>0.0</td><td>0.0165369</td><td>0.0126044</td><td>0.0</td><td>0.0102461</td><td>0.0</td><td>0.13482</td><td>0.169787</td><td>0.854662</td><td>8.84053</td><td>0.0</td><td>0.145683</td><td>0.0408802</td><td>0.0</td><td>0.0376288</td><td>0.0</td><td>0.0</td><td>0.812254</td><td>0.771021</td><td>0.0</td><td>0.853794</td><td>0.0</td><td>0</td><td>0</td><td>0</td><td>0</td><td>0</td><td>0</td><td>0</td><td>0</td><td>0</td><td>0</td><td>0</td><td>0</td><td>0</td><td>0</td><td>0.0</td><td>2.46403</td><td>1.79138</td><td>0.0</td><td>1.40394</td><td>0.0</td><td>0.0</td><td>326.463</td><td>372.634</td><td>0.0</td><td>138.725</td><td>0.0</td><td>0.0</td><td>251.627</td><td>256.057</td><td>0.0</td><td>83.1467</td><td>0.0</td><td>1739p000</td><td>1.0</td><td>1.0</td><td>1.76406</td><td>18237.8</td><td>0.0779906</td><td>64710.1</td><td>-0.0697949</td><td>56060.2</td><td>0.0</td><td>0.0</td><td>0.0</td><td>0.0</td><td>0.0</td><td>0.0</td><td>1.23759e-08 .. 7.16272e-08</td><td>6.81512e+19 .. 1.83181e+19</td><td>1.24155e-08 .. 7.16573e-08</td><td>10.8501</td><td>1.42732e-06 .. 5.12123e-09</td><td>0.21875</td><td>1.20851e-16</td><td>1.19251e-16</td><td>-19.1519 .. -22.3514</td><td>8854.74 .. 79723.8</td><td>-1.36977 .. -0.0765486</td></tr>\n",
       "<tr><td>6810</td><td>GAMAJ113626.18+004814.0</td><td>4104</td><td>1</td><td>1</td><td>0.05</td><td>G12_Y2_041_164</td><td>GAMA</td><td>5</td><td>174.10908</td><td>0.8039</td><td>3727.91</td><td>8858.93</td><td>0.3263</td><td>4</td><td>1.0</td><td>/GAMA/dr3/data/spectra/gama/reduced_27/1d/G12_Y2_041_164.fit</td><td>http://www.gama-survey.org/dr3/data/spectra/gama/reduced_27/1d/G12_Y2_041_164.fit</td><td>http://www.gama-survey.org/dr3/data/spectra/gama/reduced_27/1d/png/G12_Y2_041_164.png</td><td>1.41667</td><td>0.205869</td><td>10.5888</td><td>G12</td><td>5000</td><td>335384</td><td>1741p007</td><td>3586</td><td>EXP</td><td>174.109088511</td><td>0.803898882682</td><td>2.90749e+12</td><td>1.55413e+12</td><td>204762.0 .. 275175.0</td><td>0.0233999</td><td>0.0</td><td>6.11463</td><td>23.4727</td><td>0.0</td><td>57.1363</td><td>0.0</td><td>96.1771</td><td>71.8968</td><td>181.498</td><td>-495.862</td><td>0.0</td><td>406.125</td><td>193.241</td><td>0.0</td><td>46.4801</td><td>0.0</td><td>1.51033</td><td>0.310066</td><td>0.000827601</td><td>2.02411e-05</td><td>0.917502</td><td>0.933076</td><td>0.954412</td><td>0.966271</td><td>0.974238</td><td>0.977329</td><td>0.996042</td><td>0.997568</td><td>0.999481</td><td>0.999804</td><td>0</td><td>7</td><td>7</td><td>0</td><td>7</td><td>0</td><td>76</td><td>77</td><td>13</td><td>14</td><td>0.0</td><td>1.17507</td><td>1.55993</td><td>0.0</td><td>3.13616</td><td>0.0</td><td>3.36307</td><td>0.94339</td><td>0.814742</td><td>0.115404</td><td>0.0</td><td>0.0143042</td><td>0.00842439</td><td>0.0</td><td>0.0020425</td><td>0.0</td><td>0.0725378</td><td>0.0894269</td><td>0.268788</td><td>2.60982</td><td>0.0</td><td>0.00813961</td><td>0.0127449</td><td>0.0</td><td>0.00258123</td><td>0.0</td><td>0.0</td><td>1.01718</td><td>1.01867</td><td>0.0</td><td>1.02115</td><td>0.0</td><td>0</td><td>0</td><td>0</td><td>0</td><td>0</td><td>0</td><td>0</td><td>0</td><td>0</td><td>0</td><td>0</td><td>0</td><td>0</td><td>0</td><td>0.0</td><td>1.63112</td><td>1.60349</td><td>0.0</td><td>1.33225</td><td>0.0</td><td>0.0</td><td>1332.19</td><td>711.113</td><td>0.0</td><td>192.992</td><td>0.0</td><td>0.0</td><td>906.152</td><td>468.766</td><td>0.0</td><td>110.896</td><td>0.0</td><td>1739p015</td><td>0.0</td><td>0.0</td><td>0.0</td><td>0.0</td><td>0.0</td><td>0.0</td><td>0.0</td><td>0.0</td><td>1.32929</td><td>83218.2</td><td>0.277611</td><td>143133.0</td><td>0.28637</td><td>147592.0</td><td>6.5532e-09 .. 5.86471e-08</td><td>3.53585e+20 .. 4.41161e+19</td><td>6.55582e-09 .. 5.86494e-08</td><td>11.1177</td><td>4.6125e-06 .. 1.40447e-08</td><td>0.0</td><td>8.96454e-17</td><td>1.0043e-16</td><td>-19.6968 .. -23.1585</td><td>12881.1 .. 128719.0</td><td>-1.011 .. 0.0712073</td></tr>\n",
       "<tr><td>6813</td><td>GAMAJ113615.31+003840.3</td><td>4104</td><td>1</td><td>1</td><td>0.05</td><td>G12_Y3_017_177</td><td>GAMA</td><td>5</td><td>174.06383</td><td>0.64454</td><td>3727.71</td><td>8857.67</td><td>0.48457</td><td>4</td><td>1.0</td><td>/GAMA/dr3/data/spectra/gama/reduced_27/1d/G12_Y3_017_177.fit</td><td>http://www.gama-survey.org/dr3/data/spectra/gama/reduced_27/1d/G12_Y3_017_177.fit</td><td>http://www.gama-survey.org/dr3/data/spectra/gama/reduced_27/1d/png/G12_Y3_017_177.png</td><td>1.40884</td><td>1.01698</td><td>-99999.0</td><td>G12</td><td>5000</td><td>335384</td><td>1741p007</td><td>449</td><td>REX</td><td>174.063818906</td><td>0.644544501398</td><td>7.72627e+11</td><td>7.67547e+11</td><td>90900.7 .. 125604.0</td><td>0.0224695</td><td>0.0</td><td>6.58376</td><td>20.0813</td><td>0.0</td><td>38.9574</td><td>0.0</td><td>71.6152</td><td>58.7959</td><td>202.577</td><td>282.022</td><td>0.0</td><td>284.283</td><td>117.043</td><td>0.0</td><td>42.8885</td><td>0.0</td><td>1.41929</td><td>0.27723</td><td>0.000755001</td><td>1.76003e-05</td><td>0.920648</td><td>0.935649</td><td>0.956184</td><td>0.96759</td><td>0.97525</td><td>0.978221</td><td>0.996199</td><td>0.997664</td><td>0.999501</td><td>0.999812</td><td>0</td><td>4</td><td>4</td><td>0</td><td>7</td><td>0</td><td>70</td><td>70</td><td>12</td><td>12</td><td>0.0</td><td>1.23351</td><td>1.75932</td><td>0.0</td><td>2.3411</td><td>0.0</td><td>3.42784</td><td>1.46262</td><td>0.649401</td><td>0.114051</td><td>0.0</td><td>0.00074382</td><td>0.000484134</td><td>0.0</td><td>0.000533676</td><td>0.0</td><td>0.0386112</td><td>0.0380103</td><td>0.228619</td><td>1.13389</td><td>0.0</td><td>0.00207289</td><td>0.00148722</td><td>0.0</td><td>0.0021491</td><td>0.0</td><td>0.0</td><td>1.03173</td><td>1.02218</td><td>0.0</td><td>1.02181</td><td>0.0</td><td>0</td><td>0</td><td>0</td><td>0</td><td>0</td><td>0</td><td>0</td><td>0</td><td>0</td><td>0</td><td>0</td><td>0</td><td>0</td><td>0</td><td>0.0</td><td>1.93385</td><td>1.65895</td><td>0.0</td><td>1.33956</td><td>0.0</td><td>0.0</td><td>932.738</td><td>453.396</td><td>0.0</td><td>187.486</td><td>0.0</td><td>0.0</td><td>652.588</td><td>300.904</td><td>0.0</td><td>108.873</td><td>0.0</td><td>1739p000</td><td>0.0</td><td>0.0</td><td>0.0</td><td>0.0</td><td>0.0</td><td>0.0</td><td>0.0</td><td>0.0</td><td>1.02919</td><td>72066.8</td><td>0.0</td><td>0.0</td><td>0.0</td><td>0.0</td><td>7.03657e-09 .. 3.99461e-08</td><td>2.48873e+20 .. 4.07917e+19</td><td>7.03657e-09 .. 3.99461e-08</td><td>11.2279</td><td>2.36674e-06 .. 5.92387e-08</td><td>-0.015625</td><td>8.38393e-17</td><td>7.40791e-17</td><td>-21.3727 .. -23.7219</td><td>10453.2 .. 55217.0</td><td>-0.425257 .. 0.0386268</td></tr>\n",
       "<tr><td>6820</td><td>GAMAJ113608.43+004721.4</td><td>4104</td><td>3</td><td>3</td><td>0.05</td><td>G12_Y3_033_174</td><td>GAMA</td><td>5</td><td>174.03512</td><td>0.78928</td><td>3726.83</td><td>8857.89</td><td>0.4141</td><td>4</td><td>0.999</td><td>/GAMA/dr3/data/spectra/gama/reduced_27/1d/G12_Y3_033_174.fit</td><td>http://www.gama-survey.org/dr3/data/spectra/gama/reduced_27/1d/G12_Y3_033_174.fit</td><td>http://www.gama-survey.org/dr3/data/spectra/gama/reduced_27/1d/png/G12_Y3_033_174.png</td><td>2.9801</td><td>0.362187</td><td>-99999.0</td><td>G12</td><td>5000</td><td>335384</td><td>1741p007</td><td>3267</td><td>EXP</td><td>174.035121559</td><td>0.78928598497</td><td>5.2737e+11</td><td>6.88047e+11</td><td>65941.9 .. 94915.8</td><td>0.0220281</td><td>0.0</td><td>4.57118</td><td>15.8516</td><td>0.0</td><td>34.7614</td><td>0.0</td><td>56.7006</td><td>40.8788</td><td>92.3486</td><td>-31.3108</td><td>0.0</td><td>363.423</td><td>178.683</td><td>0.0</td><td>34.6637</td><td>0.0</td><td>1.41522</td><td>0.280968</td><td>0.000811194</td><td>1.87114e-05</td><td>0.922145</td><td>0.936873</td><td>0.957026</td><td>0.968217</td><td>0.97573</td><td>0.978644</td><td>0.996274</td><td>0.99771</td><td>0.999511</td><td>0.999815</td><td>0</td><td>7</td><td>7</td><td>0</td><td>6</td><td>0</td><td>72</td><td>72</td><td>13</td><td>13</td><td>0.0</td><td>1.06595</td><td>1.10547</td><td>0.0</td><td>1.82528</td><td>0.0</td><td>1.56981</td><td>0.853694</td><td>0.451593</td><td>0.0898748</td><td>0.0</td><td>4.02253e-05</td><td>1.79732e-05</td><td>0.0</td><td>1.41589e-05</td><td>0.0</td><td>0.0191859</td><td>0.0328138</td><td>0.303934</td><td>12.033</td><td>0.0</td><td>0.00371571</td><td>0.00422447</td><td>0.0</td><td>0.00388219</td><td>0.0</td><td>0.0</td><td>1.01622</td><td>1.01344</td><td>0.0</td><td>1.02008</td><td>0.0</td><td>0</td><td>0</td><td>0</td><td>0</td><td>0</td><td>0</td><td>0</td><td>0</td><td>0</td><td>0</td><td>0</td><td>0</td><td>0</td><td>0</td><td>0.0</td><td>1.61558</td><td>1.44328</td><td>0.0</td><td>1.28299</td><td>0.0</td><td>0.0</td><td>1319.45</td><td>775.72</td><td>0.0</td><td>167.766</td><td>0.0</td><td>0.0</td><td>893.459</td><td>493.895</td><td>0.0</td><td>95.0196</td><td>0.0</td><td>1739p015</td><td>0.0</td><td>0.0</td><td>0.0</td><td>0.0</td><td>0.0</td><td>0.0</td><td>0.0</td><td>0.0</td><td>1.3392</td><td>35890.8</td><td>-0.105165</td><td>49141.1</td><td>0.20547</td><td>78591.9</td><td>4.87919e-09 .. 3.5626e-08</td><td>3.18988e+20 .. 3.30015e+19</td><td>4.87919e-09 .. 3.5626e-08</td><td>11.1019</td><td>2.8994e-06 .. 3.56993e-08</td><td>0.0078125</td><td>6.43274e-17</td><td>6.51393e-17</td><td>-20.4365 .. -23.2573</td><td>6441.99 .. 35532.0</td><td>-0.557698 .. 0.104562</td></tr>\n",
       "<tr><td>6826</td><td>GAMAJ113644.38+004232.5</td><td>4104</td><td>3</td><td>0</td><td>0.01</td><td>317651685860206592</td><td>SDSS</td><td>1</td><td>174.18493</td><td>0.70906</td><td>3801.89</td><td>9204.5</td><td>0.07275</td><td>5</td><td>0.0</td><td>/GAMA/dr3/data/spectra/sdss/spec-0282-51658-0538.fit</td><td>http://www.gama-survey.org/dr3/data/spectra/sdss/spec-0282-51658-0538.fit</td><td>http://www.gama-survey.org/dr3/data/spectra/sdss/png/spec-0282-51658-0538.png</td><td>1.25861</td><td>10.2783</td><td>60.3941</td><td>G12</td><td>5000</td><td>335384</td><td>1741p007</td><td>1653</td><td>REX</td><td>174.184931243</td><td>0.709037707508</td><td>9.36797e+12</td><td>9.83002e+12</td><td>961502.0 .. 1.30439e+06</td><td>0.0215238</td><td>0.0</td><td>51.3572</td><td>86.4343</td><td>0.0</td><td>127.257</td><td>0.0</td><td>103.607</td><td>81.1722</td><td>546.889</td><td>2221.99</td><td>0.0</td><td>136.673</td><td>69.7904</td><td>0.0</td><td>25.1415</td><td>0.0</td><td>1.4112</td><td>0.288384</td><td>0.000892235</td><td>2.16209e-05</td><td>0.923857</td><td>0.938272</td><td>0.957989</td><td>0.968933</td><td>0.976279</td><td>0.979128</td><td>0.996359</td><td>0.997762</td><td>0.999522</td><td>0.99982</td><td>0</td><td>5</td><td>4</td><td>0</td><td>5</td><td>0</td><td>70</td><td>71</td><td>14</td><td>15</td><td>0.0</td><td>6.17576</td><td>6.20057</td><td>0.0</td><td>5.50477</td><td>0.0</td><td>4.49852</td><td>0.991367</td><td>0.495458</td><td>0.110714</td><td>0.0</td><td>0.0135318</td><td>0.0158845</td><td>0.0</td><td>0.0126501</td><td>0.0</td><td>0.144646</td><td>0.0867814</td><td>0.0503683</td><td>0.577222</td><td>0.0</td><td>0.000603885</td><td>0.000465563</td><td>0.0</td><td>0.000492239</td><td>0.0</td><td>0.0</td><td>1.01859</td><td>1.01605</td><td>0.0</td><td>0.857891</td><td>0.0</td><td>0</td><td>0</td><td>0</td><td>0</td><td>0</td><td>0</td><td>0</td><td>0</td><td>0</td><td>0</td><td>0</td><td>0</td><td>0</td><td>0</td><td>0.0</td><td>1.66405</td><td>1.4537</td><td>0.0</td><td>1.39896</td><td>0.0</td><td>0.0</td><td>980.917</td><td>500.162</td><td>0.0</td><td>120.114</td><td>0.0</td><td>0.0</td><td>668.895</td><td>319.902</td><td>0.0</td><td>71.2337</td><td>0.0</td><td>1739p000</td><td>0.0</td><td>0.0</td><td>0.0</td><td>0.0</td><td>0.0</td><td>0.0</td><td>0.0</td><td>0.0</td><td>0.965022</td><td>755292.0</td><td>0.0</td><td>0.0</td><td>0.0</td><td>0.0</td><td>5.47359e-08 .. 1.30349e-07</td><td>1.2032e+20 .. 2.39628e+19</td><td>5.49002e-08 .. 1.30789e-07</td><td>9.88454</td><td>2.8006e-07 .. 4.26596e-07</td><td>19.875</td><td>2.89511e-16</td><td>2.34981e-16</td><td>-18.0087 .. -20.255</td><td>305798.0 .. 345387.0</td><td>-1.42084 .. -0.116668</td></tr>\n",
       "<tr><td>6830</td><td>GAMAJ113707.32+004221.9</td><td>4104</td><td>1</td><td>1</td><td>0.08</td><td>G12_Y1_AN1_255</td><td>GAMA</td><td>5</td><td>174.2805</td><td>0.70608</td><td>3727.79</td><td>8856.73</td><td>0.11405</td><td>4</td><td>1.0</td><td>/GAMA/dr3/data/spectra/gama/reduced_27/1d/G12_Y1_AN1_255.fit</td><td>http://www.gama-survey.org/dr3/data/spectra/gama/reduced_27/1d/G12_Y1_AN1_255.fit</td><td>http://www.gama-survey.org/dr3/data/spectra/gama/reduced_27/1d/png/G12_Y1_AN1_255.png</td><td>1.25249</td><td>3.27878</td><td>14.2105</td><td>G12</td><td>5000</td><td>335385</td><td>1743p007</td><td>1627</td><td>EXP</td><td>174.280548567</td><td>0.706108934065</td><td>3.38158e+11</td><td>4.88727e+11</td><td>69438.4 .. 108739.0</td><td>0.0212922</td><td>0.0</td><td>16.7624</td><td>27.7785</td><td>0.0</td><td>40.334</td><td>0.0</td><td>26.4148</td><td>16.0458</td><td>45.2309</td><td>-690.954</td><td>0.0</td><td>142.515</td><td>85.9648</td><td>0.0</td><td>19.7447</td><td>0.0</td><td>1.17705</td><td>0.244395</td><td>0.000779491</td><td>1.86149e-05</td><td>0.924645</td><td>0.938916</td><td>0.958431</td><td>0.969262</td><td>0.976531</td><td>0.97935</td><td>0.996398</td><td>0.997786</td><td>0.999528</td><td>0.999822</td><td>0</td><td>4</td><td>5</td><td>0</td><td>7</td><td>0</td><td>73</td><td>73</td><td>14</td><td>14</td><td>0.0</td><td>1.2161</td><td>1.17238</td><td>0.0</td><td>1.18239</td><td>0.0</td><td>1.15047</td><td>0.912208</td><td>0.556362</td><td>0.136886</td><td>0.0</td><td>-6.38454e-11</td><td>-2.64413e-10</td><td>0.0</td><td>-7.2677e-10</td><td>0.0</td><td>0.0822893</td><td>0.208403</td><td>0.546016</td><td>0.497159</td><td>0.0</td><td>0.00452431</td><td>0.00582631</td><td>0.0</td><td>0.00637263</td><td>0.0</td><td>0.0</td><td>1.01615</td><td>1.0276</td><td>0.0</td><td>1.02272</td><td>0.0</td><td>0</td><td>0</td><td>0</td><td>0</td><td>0</td><td>0</td><td>0</td><td>0</td><td>0</td><td>0</td><td>0</td><td>0</td><td>0</td><td>0</td><td>0.0</td><td>1.62847</td><td>1.76246</td><td>0.0</td><td>1.34806</td><td>0.0</td><td>0.0</td><td>1165.47</td><td>571.642</td><td>0.0</td><td>174.924</td><td>0.0</td><td>0.0</td><td>792.027</td><td>388.036</td><td>0.0</td><td>100.878</td><td>0.0</td><td>1739p000</td><td>0.0</td><td>0.0</td><td>0.0</td><td>0.0</td><td>0.0</td><td>0.0</td><td>0.0</td><td>0.0</td><td>2.01825</td><td>28883.7</td><td>-0.131524</td><td>148771.0</td><td>-0.0698437</td><td>89548.5</td><td>1.78529e-08 .. 4.13034e-08</td><td>1.25636e+20 .. 1.88288e+19</td><td>1.78652e-08 .. 4.13461e-08</td><td>9.73631</td><td>1.51252e-07 .. 1.40071e-07</td><td>0.078125</td><td>9.71899e-17</td><td>7.52732e-17</td><td>-17.9937 .. -20.0364</td><td>33969.2 .. 27248.7</td><td>-1.25652 .. -0.124488</td></tr>\n",
       "<tr><td>6837</td><td>GAMAJ113712.66+004723.9</td><td>4104</td><td>1</td><td>1</td><td>0.15</td><td>G12_Y1_AN1_260</td><td>GAMA</td><td>5</td><td>174.30275</td><td>0.78998</td><td>3727.79</td><td>8856.73</td><td>0.07431</td><td>4</td><td>1.0</td><td>/GAMA/dr3/data/spectra/gama/reduced_27/1d/G12_Y1_AN1_260.fit</td><td>http://www.gama-survey.org/dr3/data/spectra/gama/reduced_27/1d/G12_Y1_AN1_260.fit</td><td>http://www.gama-survey.org/dr3/data/spectra/gama/reduced_27/1d/png/G12_Y1_AN1_260.png</td><td>1.38511</td><td>6.86012</td><td>38.0211</td><td>G12</td><td>5000</td><td>335385</td><td>1743p007</td><td>3228</td><td>EXP</td><td>174.302839655</td><td>0.789994866959</td><td>8.4469e+11</td><td>4.88124e+12</td><td>362086.0 .. 767819.0</td><td>0.0228555</td><td>0.0</td><td>50.623</td><td>86.4357</td><td>0.0</td><td>125.259</td><td>0.0</td><td>91.6866</td><td>55.5201</td><td>279.07</td><td>-40.2992</td><td>0.0</td><td>51.8583</td><td>48.5816</td><td>0.0</td><td>17.5632</td><td>0.0</td><td>0.9675</td><td>0.216718</td><td>0.000605227</td><td>1.438e-05</td><td>0.919342</td><td>0.934581</td><td>0.955448</td><td>0.967043</td><td>0.97483</td><td>0.977851</td><td>0.996134</td><td>0.997624</td><td>0.999493</td><td>0.999808</td><td>0</td><td>2</td><td>4</td><td>0</td><td>7</td><td>0</td><td>70</td><td>72</td><td>12</td><td>11</td><td>0.0</td><td>2.37465</td><td>7.66214</td><td>0.0</td><td>2.86009</td><td>0.0</td><td>4.26228</td><td>0.852512</td><td>0.918105</td><td>0.147586</td><td>0.0</td><td>0.02146</td><td>0.017602</td><td>0.0</td><td>0.0131653</td><td>0.0</td><td>0.062416</td><td>0.0765514</td><td>0.0557284</td><td>6.79285</td><td>0.0</td><td>0.026009</td><td>0.00285975</td><td>0.0</td><td>0.00364869</td><td>0.0</td><td>0.0</td><td>0.696705</td><td>1.0345</td><td>0.0</td><td>1.02262</td><td>0.0</td><td>0</td><td>0</td><td>0</td><td>0</td><td>0</td><td>0</td><td>0</td><td>0</td><td>0</td><td>0</td><td>0</td><td>0</td><td>0</td><td>0</td><td>0.0</td><td>1.62521</td><td>1.86116</td><td>0.0</td><td>1.33223</td><td>0.0</td><td>0.0</td><td>692.093</td><td>453.555</td><td>0.0</td><td>200.235</td><td>0.0</td><td>0.0</td><td>463.24</td><td>308.185</td><td>0.0</td><td>114.722</td><td>0.0</td><td>1739p015</td><td>0.0</td><td>0.0</td><td>0.0</td><td>0.0</td><td>0.0</td><td>0.0</td><td>0.0</td><td>0.0</td><td>3.30023</td><td>55713.2</td><td>-0.543112</td><td>1.24014e+06</td><td>0.0507623</td><td>732064.0</td><td>5.41665e-08 .. 1.28493e-07</td><td>4.52952e+19 .. 1.66902e+19</td><td>5.4795e-08 .. 1.2943e-07</td><td>9.89312</td><td>7.36904e-08 .. 3.8945e-07</td><td>68.6875</td><td>2.90091e-16</td><td>2.33951e-16</td><td>-18.0068 .. -20.2888</td><td>112737.0 .. 233761.0</td><td>-1.45989 .. -0.115686</td></tr>\n",
       "<tr><td>6838</td><td>GAMAJ113713.33+004725.2</td><td>4104</td><td>1</td><td>1</td><td>0.04</td><td>G12_Y3_017_181</td><td>GAMA</td><td>5</td><td>174.30554</td><td>0.79034</td><td>3727.71</td><td>8857.67</td><td>0.07456</td><td>4</td><td>0.999</td><td>/GAMA/dr3/data/spectra/gama/reduced_27/1d/G12_Y3_017_181.fit</td><td>http://www.gama-survey.org/dr3/data/spectra/gama/reduced_27/1d/G12_Y3_017_181.fit</td><td>http://www.gama-survey.org/dr3/data/spectra/gama/reduced_27/1d/png/G12_Y3_017_181.png</td><td>1.34954</td><td>2.46475</td><td>13.8216</td><td>G12</td><td>5000</td><td>335385</td><td>1743p007</td><td>3229</td><td>EXP</td><td>174.305595631</td><td>0.790352814298</td><td>4.6447e+11</td><td>1.40347e+12</td><td>103426.0 .. 167965.0</td><td>0.0228866</td><td>0.0</td><td>18.5325</td><td>27.8173</td><td>0.0</td><td>37.3348</td><td>0.0</td><td>23.9233</td><td>15.8411</td><td>5.85319</td><td>83.1681</td><td>0.0</td><td>111.953</td><td>100.818</td><td>0.0</td><td>36.4564</td><td>0.0</td><td>1.24932</td><td>0.270162</td><td>0.000724745</td><td>1.64013e-05</td><td>0.919236</td><td>0.934495</td><td>0.955389</td><td>0.966998</td><td>0.974796</td><td>0.977821</td><td>0.996129</td><td>0.997621</td><td>0.999492</td><td>0.999808</td><td>0</td><td>2</td><td>4</td><td>0</td><td>7</td><td>0</td><td>72</td><td>72</td><td>12</td><td>12</td><td>0.0</td><td>1.18507</td><td>1.21717</td><td>0.0</td><td>1.18689</td><td>0.0</td><td>13.2552</td><td>1.15944</td><td>0.904596</td><td>0.123749</td><td>0.0</td><td>0.0685227</td><td>0.0965929</td><td>0.0</td><td>0.0761228</td><td>0.0</td><td>0.639475</td><td>0.714928</td><td>19.6467</td><td>2.74091</td><td>0.0</td><td>0.0985584</td><td>0.00122406</td><td>0.0</td><td>0.00162171</td><td>0.0</td><td>0.0</td><td>0.754751</td><td>1.03511</td><td>0.0</td><td>1.02314</td><td>0.0</td><td>0</td><td>0</td><td>0</td><td>0</td><td>0</td><td>0</td><td>0</td><td>0</td><td>0</td><td>0</td><td>0</td><td>0</td><td>0</td><td>0</td><td>0.0</td><td>1.63047</td><td>1.83391</td><td>0.0</td><td>1.3291</td><td>0.0</td><td>0.0</td><td>692.093</td><td>453.555</td><td>0.0</td><td>200.235</td><td>0.0</td><td>0.0</td><td>463.24</td><td>308.185</td><td>0.0</td><td>114.722</td><td>0.0</td><td>1739p015</td><td>0.0</td><td>0.0</td><td>0.0</td><td>0.0</td><td>0.0</td><td>0.0</td><td>0.0</td><td>0.0</td><td>1.88682</td><td>28993.1</td><td>-0.425796</td><td>136490.0</td><td>0.15872</td><td>95007.8</td><td>1.98315e-08 .. 3.83001e-08</td><td>9.77662e+19 .. 3.46418e+19</td><td>1.99004e-08 .. 3.84153e-08</td><td>9.23601</td><td>4.42182e-08 .. 2.15921e-07</td><td>2.0</td><td>9.97139e-17</td><td>7.37707e-17</td><td>-17.1503 .. -18.9939</td><td>32617.6 .. 43107.5</td><td>-1.23305 .. -0.104071</td></tr>\n",
       "<tr><td>...</td><td>...</td><td>...</td><td>...</td><td>...</td><td>...</td><td>...</td><td>...</td><td>...</td><td>...</td><td>...</td><td>...</td><td>...</td><td>...</td><td>...</td><td>...</td><td>...</td><td>...</td><td>...</td><td>...</td><td>...</td><td>...</td><td>...</td><td>...</td><td>...</td><td>...</td><td>...</td><td>...</td><td>...</td><td>...</td><td>...</td><td>...</td><td>...</td><td>...</td><td>...</td><td>...</td><td>...</td><td>...</td><td>...</td><td>...</td><td>...</td><td>...</td><td>...</td><td>...</td><td>...</td><td>...</td><td>...</td><td>...</td><td>...</td><td>...</td><td>...</td><td>...</td><td>...</td><td>...</td><td>...</td><td>...</td><td>...</td><td>...</td><td>...</td><td>...</td><td>...</td><td>...</td><td>...</td><td>...</td><td>...</td><td>...</td><td>...</td><td>...</td><td>...</td><td>...</td><td>...</td><td>...</td><td>...</td><td>...</td><td>...</td><td>...</td><td>...</td><td>...</td><td>...</td><td>...</td><td>...</td><td>...</td><td>...</td><td>...</td><td>...</td><td>...</td><td>...</td><td>...</td><td>...</td><td>...</td><td>...</td><td>...</td><td>...</td><td>...</td><td>...</td><td>...</td><td>...</td><td>...</td><td>...</td><td>...</td><td>...</td><td>...</td><td>...</td><td>...</td><td>...</td><td>...</td><td>...</td><td>...</td><td>...</td><td>...</td><td>...</td><td>...</td><td>...</td><td>...</td><td>...</td><td>...</td><td>...</td><td>...</td><td>...</td><td>...</td><td>...</td><td>...</td><td>...</td><td>...</td><td>...</td><td>...</td><td>...</td><td>...</td><td>...</td><td>...</td><td>...</td><td>...</td><td>...</td><td>...</td><td>...</td><td>...</td><td>...</td><td>...</td><td>...</td><td>...</td><td>...</td><td>...</td><td>...</td><td>...</td><td>...</td><td>...</td><td>...</td><td>...</td><td>...</td><td>...</td><td>...</td><td>...</td><td>...</td><td>...</td><td>...</td><td>...</td><td>...</td><td>...</td><td>...</td><td>...</td><td>...</td><td>...</td><td>...</td><td>...</td></tr>\n",
       "<tr><td>4205072</td><td>GAMAJ114943.22-022454.6</td><td>520</td><td>1</td><td>1</td><td>0.11</td><td>G12_Y6_050_085</td><td>GAMA</td><td>5</td><td>177.43013</td><td>-2.41517</td><td>3727.88</td><td>8858.87</td><td>0.53824</td><td>4</td><td>0.998</td><td>/GAMA/dr3/data/spectra/gama/reduced_27/1d/G12_Y6_050_085.fit</td><td>http://www.gama-survey.org/dr3/data/spectra/gama/reduced_27/1d/G12_Y6_050_085.fit</td><td>http://www.gama-survey.org/dr3/data/spectra/gama/reduced_27/1d/png/G12_Y6_050_085.png</td><td>1.12992</td><td>12.5766</td><td>-99999.0</td><td>G12</td><td>5000</td><td>316677</td><td>1773m025</td><td>4712</td><td>DEV</td><td>177.430067814</td><td>-2.41517502258</td><td>2.64292e+11</td><td>1.60562e+11</td><td>21339.6 .. 15911.9</td><td>0.0194701</td><td>0.0</td><td>6.14676</td><td>14.0971</td><td>0.0</td><td>23.6155</td><td>0.0</td><td>29.5539</td><td>28.2288</td><td>131.976</td><td>-1302.87</td><td>0.0</td><td>50.8318</td><td>111.919</td><td>0.0</td><td>13.0095</td><td>0.0</td><td>0.578149</td><td>0.126927</td><td>0.000423392</td><td>1.17602e-05</td><td>0.930865</td><td>0.943994</td><td>0.96192</td><td>0.971855</td><td>0.978518</td><td>0.981101</td><td>0.996706</td><td>0.997976</td><td>0.999568</td><td>0.999837</td><td>0</td><td>2</td><td>3</td><td>0</td><td>5</td><td>0</td><td>63</td><td>64</td><td>12</td><td>12</td><td>0.0</td><td>1.02462</td><td>1.6145</td><td>0.0</td><td>1.28464</td><td>0.0</td><td>1.92744</td><td>0.829596</td><td>0.535135</td><td>0.150307</td><td>0.0</td><td>0.0612188</td><td>0.112405</td><td>0.0</td><td>0.203184</td><td>0.0</td><td>2.03124</td><td>1.41874</td><td>1.79365</td><td>1.45005</td><td>0.0</td><td>0.0976416</td><td>0.100303</td><td>0.0</td><td>0.100912</td><td>0.0</td><td>0.0</td><td>0.880383</td><td>0.882818</td><td>0.0</td><td>0.892039</td><td>0.0</td><td>0</td><td>0</td><td>0</td><td>0</td><td>0</td><td>0</td><td>0</td><td>0</td><td>0</td><td>0</td><td>0</td><td>0</td><td>0</td><td>0</td><td>0.0</td><td>1.22203</td><td>1.28711</td><td>0.0</td><td>1.36823</td><td>0.0</td><td>0.0</td><td>985.214</td><td>2031.28</td><td>0.0</td><td>196.532</td><td>0.0</td><td>0.0</td><td>547.53</td><td>1187.91</td><td>0.0</td><td>112.689</td><td>0.0</td><td>1769m031</td><td>1.0</td><td>1.0</td><td>4.04538</td><td>1272.97</td><td>0.246899</td><td>20173.5</td><td>-0.166913</td><td>15136.3</td><td>0.0</td><td>0.0</td><td>0.0</td><td>0.0</td><td>0.0</td><td>0.0</td><td>6.51144e-09 .. 2.41339e-08</td><td>4.52975e+19 .. 1.24566e+19</td><td>6.51144e-09 .. 2.41339e-08</td><td>10.9628</td><td>7.75001e-07 .. 5.82088e-08</td><td>-0.00195312</td><td>5.73773e-17</td><td>4.33771e-17</td><td>-21.5764 .. -23.3071</td><td>1629.22 .. 6154.68</td><td>-0.411462 .. -0.10315</td></tr>\n",
       "<tr><td>4209287</td><td>GAMAJ120806.00-022337.8</td><td>8</td><td>1</td><td>0</td><td>0.67</td><td>2QZJ120805.9-022338a</td><td>2QZ</td><td>8</td><td>182.0249</td><td>-2.394</td><td>3611.95</td><td>8021.42</td><td>0.8968</td><td>3</td><td>0.0</td><td>/GAMA/dr3/data/spectra/2qz/J120805.9-022338a.fit</td><td>http://www.gama-survey.org/dr3/data/spectra/2qz/J120805.9-022338a.fit</td><td>http://www.gama-survey.org/dr3/data/spectra/2qz/png/J120805.9-022338a.png</td><td>0.886435</td><td>-99999.0</td><td>-99999.0</td><td>G12</td><td>5000</td><td>316696</td><td>1821m025</td><td>5021</td><td>PSF</td><td>182.025020025</td><td>-2.39384567072</td><td>4.11398e+12</td><td>4.46674e+12</td><td>151942.0 .. 152265.0</td><td>0.0298311</td><td>0.0</td><td>12.6024</td><td>13.8294</td><td>0.0</td><td>19.5763</td><td>0.0</td><td>68.8293</td><td>99.0544</td><td>341.783</td><td>971.971</td><td>0.0</td><td>359.372</td><td>157.099</td><td>0.0</td><td>169.144</td><td>0.0</td><td>1.6274</td><td>0.272753</td><td>0.000536748</td><td>1.76054e-05</td><td>0.896045</td><td>0.91548</td><td>0.94225</td><td>0.957202</td><td>0.967275</td><td>0.971189</td><td>0.994957</td><td>0.9969</td><td>0.999338</td><td>0.99975</td><td>0</td><td>3</td><td>2</td><td>0</td><td>6</td><td>0</td><td>75</td><td>68</td><td>8</td><td>12</td><td>0.0</td><td>2.22406</td><td>2.04441</td><td>0.0</td><td>2.06428</td><td>0.0</td><td>3.76233</td><td>0.55722</td><td>0.627209</td><td>0.0928411</td><td>0.0</td><td>0.0</td><td>0.0</td><td>0.0</td><td>0.0</td><td>0.0</td><td>0.0319852</td><td>0.0219334</td><td>0.0807142</td><td>0.379168</td><td>0.0</td><td>0.174435</td><td>0.0127911</td><td>0.0</td><td>0.024698</td><td>0.0</td><td>0.0</td><td>1.01706</td><td>1.00758</td><td>0.0</td><td>1.02682</td><td>0.0</td><td>0</td><td>1</td><td>0</td><td>0</td><td>0</td><td>0</td><td>0</td><td>0</td><td>0</td><td>0</td><td>0</td><td>0</td><td>0</td><td>0</td><td>0.0</td><td>1.78827</td><td>1.23297</td><td>0.0</td><td>1.5309</td><td>0.0</td><td>0.0</td><td>626.613</td><td>340.911</td><td>0.0</td><td>197.138</td><td>0.0</td><td>0.0</td><td>416.374</td><td>192.751</td><td>0.0</td><td>121.001</td><td>0.0</td><td>1815m031</td><td>0.0</td><td>0.0</td><td>0.0</td><td>0.0</td><td>0.0</td><td>0.0</td><td>0.0</td><td>0.0</td><td>0.0</td><td>0.0</td><td>0.0</td><td>0.0</td><td>0.0</td><td>0.0</td><td>1.37659e-08 .. 2.02386e-08</td><td>3.01191e+20 .. 1.58255e+20</td><td>1.37731e-08 .. 2.0243e-08</td><td>10.9338</td><td>4.43281e-08 .. 1.02173e-07</td><td>0.078125</td><td>4.85814e-17</td><td>2.77454e-17</td><td>-23.5142 .. -23.9561</td><td>25487.6 .. 54988.2</td><td>-0.710494 .. -0.61743</td></tr>\n",
       "<tr><td>4210898</td><td>GAMAJ121440.04-022100.9</td><td>520</td><td>1</td><td>0</td><td>0.07</td><td>4252641958176489472</td><td>SDSS</td><td>1</td><td>183.66682</td><td>-2.35027</td><td>3563.69</td><td>10306.23</td><td>0.50648</td><td>4</td><td>0.0</td><td>/GAMA/dr3/data/spectra/sdss/spec-3777-55210-0429.fit</td><td>http://www.gama-survey.org/dr3/data/spectra/sdss/spec-3777-55210-0429.fit</td><td>http://www.gama-survey.org/dr3/data/spectra/sdss/png/spec-3777-55210-0429.png</td><td>1.31298</td><td>1.20938</td><td>9.19072</td><td>G12</td><td>5000</td><td>318142</td><td>1836m022</td><td>538</td><td>DEV</td><td>183.666856559</td><td>-2.35026229025</td><td>4.05113e+11</td><td>5.56273e+11</td><td>41721.9 .. 47408.1</td><td>0.0289619</td><td>0.0</td><td>3.75115</td><td>13.2795</td><td>0.0</td><td>32.49</td><td>0.0</td><td>58.7618</td><td>39.7253</td><td>237.431</td><td>-141.227</td><td>0.0</td><td>205.78</td><td>82.7077</td><td>0.0</td><td>31.3789</td><td>0.0</td><td>0.963984</td><td>0.175675</td><td>0.000402734</td><td>1.02631e-05</td><td>0.898916</td><td>0.917839</td><td>0.943885</td><td>0.958423</td><td>0.968213</td><td>0.972017</td><td>0.995104</td><td>0.99699</td><td>0.999357</td><td>0.999757</td><td>0</td><td>3</td><td>3</td><td>0</td><td>5</td><td>0</td><td>64</td><td>62</td><td>8</td><td>8</td><td>0.0</td><td>0.98587</td><td>1.11991</td><td>0.0</td><td>1.1855</td><td>0.0</td><td>2.3608</td><td>0.630113</td><td>1.03743</td><td>0.100166</td><td>0.0</td><td>0.0189479</td><td>0.0231467</td><td>0.0</td><td>0.0166721</td><td>0.0</td><td>0.329745</td><td>0.399027</td><td>0.303524</td><td>5.59132</td><td>0.0</td><td>0.0215164</td><td>0.0225819</td><td>0.0</td><td>0.0216383</td><td>0.0</td><td>0.0</td><td>1.01176</td><td>1.01504</td><td>0.0</td><td>1.01809</td><td>0.0</td><td>0</td><td>0</td><td>0</td><td>0</td><td>0</td><td>0</td><td>0</td><td>0</td><td>0</td><td>0</td><td>0</td><td>0</td><td>0</td><td>0</td><td>0.0</td><td>1.44532</td><td>1.79539</td><td>0.0</td><td>1.38083</td><td>0.0</td><td>0.0</td><td>1118.77</td><td>397.758</td><td>0.0</td><td>171.969</td><td>0.0</td><td>0.0</td><td>691.2</td><td>262.693</td><td>0.0</td><td>100.202</td><td>0.0</td><td>1830m031</td><td>1.0</td><td>1.0</td><td>1.51321</td><td>6643.1</td><td>-0.182347</td><td>19635.6</td><td>-0.0670745</td><td>10385.8</td><td>0.0</td><td>0.0</td><td>0.0</td><td>0.0</td><td>0.0</td><td>0.0</td><td>4.08694e-09 .. 3.35566e-08</td><td>1.73355e+20 .. 2.94157e+19</td><td>4.08694e-09 .. 3.35566e-08</td><td>11.3198</td><td>3.04584e-06 .. 3.58998e-08</td><td>-0.0078125</td><td>6.2967e-17</td><td>6.50441e-17</td><td>-20.9238 .. -23.7887</td><td>2456.31 .. 28098.7</td><td>-0.399411 .. 0.179542</td></tr>\n",
       "<tr><td>4226281</td><td>GAMAJ114039.84-012943.7</td><td>8</td><td>2</td><td>0</td><td>0.99</td><td>2QZJ114039.8-012944a</td><td>2QZ</td><td>8</td><td>175.16584</td><td>-1.49569</td><td>3611.95</td><td>8021.42</td><td>0.9216</td><td>3</td><td>0.0</td><td>/GAMA/dr3/data/spectra/2qz/J114039.8-012944a.fit</td><td>http://www.gama-survey.org/dr3/data/spectra/2qz/J114039.8-012944a.fit</td><td>http://www.gama-survey.org/dr3/data/spectra/2qz/png/J114039.8-012944a.png</td><td>1.01411</td><td>-99999.0</td><td>-99999.0</td><td>G12</td><td>5000</td><td>322428</td><td>1751m015</td><td>4323</td><td>PSF</td><td>175.166028047</td><td>-1.49548984935</td><td>2.8091e+13</td><td>3.31559e+13</td><td>616714.0 .. 617102.0</td><td>0.016053</td><td>0.0</td><td>13.6873</td><td>15.7864</td><td>0.0</td><td>17.2031</td><td>0.0</td><td>75.6434</td><td>105.946</td><td>327.81</td><td>482.157</td><td>0.0</td><td>1489.52</td><td>1185.16</td><td>0.0</td><td>142.948</td><td>0.0</td><td>1.58609</td><td>0.308319</td><td>0.000917103</td><td>1.94939e-05</td><td>0.942643</td><td>0.953591</td><td>0.968497</td><td>0.976736</td><td>0.982254</td><td>0.984391</td><td>0.997283</td><td>0.998331</td><td>0.999644</td><td>0.999865</td><td>0</td><td>3</td><td>4</td><td>0</td><td>4</td><td>0</td><td>70</td><td>71</td><td>14</td><td>13</td><td>0.0</td><td>4.14029</td><td>44.18</td><td>0.0</td><td>2.99175</td><td>0.0</td><td>7.18809</td><td>1.35853</td><td>0.582832</td><td>0.0643747</td><td>0.0</td><td>0.000148897</td><td>4.40077e-05</td><td>0.0</td><td>0.000303035</td><td>0.0</td><td>0.0803043</td><td>0.0499812</td><td>0.127822</td><td>1.25844</td><td>0.0</td><td>0.0325809</td><td>0.045053</td><td>0.0</td><td>0.0208971</td><td>0.0</td><td>0.0</td><td>0.760761</td><td>1.01096</td><td>0.0</td><td>1.02882</td><td>0.0</td><td>0</td><td>0</td><td>0</td><td>0</td><td>0</td><td>0</td><td>0</td><td>0</td><td>0</td><td>0</td><td>0</td><td>0</td><td>0</td><td>0</td><td>0.0</td><td>1.1349</td><td>1.05795</td><td>0.0</td><td>1.44558</td><td>0.0</td><td>0.0</td><td>6002.63</td><td>3115.19</td><td>0.0</td><td>174.352</td><td>0.0</td><td>0.0</td><td>3185.6</td><td>1554.07</td><td>0.0</td><td>100.448</td><td>0.0</td><td>1754m016</td><td>0.0</td><td>0.0</td><td>0.0</td><td>0.0</td><td>0.0</td><td>0.0</td><td>0.0</td><td>0.0</td><td>0.0</td><td>0.0</td><td>0.0</td><td>0.0</td><td>0.0</td><td>0.0</td><td>1.43534e-08 .. 1.75139e-08</td><td>1.35447e+21 .. 1.3792e+20</td><td>1.47323e-08 .. 1.92739e-08</td><td>10.6533</td><td>1.26117e-44 .. 1.61953e-07</td><td>1175.69</td><td>4.48091e-17</td><td>2.42603e-17</td><td>-23.6973 .. -23.7151</td><td>250551.0 .. 35887.6</td><td>-0.7144 .. -0.774523</td></tr>\n",
       "<tr><td>4238707</td><td>GAMAJ085849.49-004105.3</td><td>520</td><td>2</td><td>2</td><td>0.07</td><td>G09_Y6_067_313</td><td>GAMA</td><td>5</td><td>134.70625</td><td>-0.68481</td><td>3727.88</td><td>8858.87</td><td>0.40404</td><td>4</td><td>0.998</td><td>/GAMA/dr3/data/spectra/gama/reduced_27/1d/G09_Y6_067_313.fit</td><td>http://www.gama-survey.org/dr3/data/spectra/gama/reduced_27/1d/G09_Y6_067_313.fit</td><td>http://www.gama-survey.org/dr3/data/spectra/gama/reduced_27/1d/png/G09_Y6_067_313.png</td><td>1.31654</td><td>1.85659</td><td>-99999.0</td><td>G09</td><td>5000</td><td>326586</td><td>1346m007</td><td>3917</td><td>DEV</td><td>134.706217235</td><td>-0.684825712695</td><td>1.67793e+11</td><td>2.7391e+11</td><td>30742.8 .. 51623.8</td><td>0.0366943</td><td>0.0</td><td>4.68172</td><td>19.5828</td><td>0.0</td><td>100.956</td><td>0.0</td><td>115.173</td><td>91.4786</td><td>553.941</td><td>726.134</td><td>0.0</td><td>16.6988</td><td>8.40736</td><td>0.0</td><td>4.71562</td><td>0.0</td><td>0.411446</td><td>0.0893922</td><td>0.000334323</td><td>8.98933e-06</td><td>0.8737</td><td>0.897069</td><td>0.929443</td><td>0.947618</td><td>0.959898</td><td>0.964679</td><td>0.993801</td><td>0.996188</td><td>0.999186</td><td>0.999692</td><td>0</td><td>2</td><td>2</td><td>0</td><td>6</td><td>0</td><td>77</td><td>73</td><td>12</td><td>11</td><td>0.0</td><td>0.951512</td><td>1.35855</td><td>0.0</td><td>11.2435</td><td>0.0</td><td>6.86646</td><td>1.02501</td><td>0.670918</td><td>0.134064</td><td>0.0</td><td>-0.148312</td><td>0.0110549</td><td>0.0</td><td>0.141172</td><td>0.0</td><td>0.232397</td><td>0.221606</td><td>0.337161</td><td>1.38924</td><td>0.0</td><td>0.181775</td><td>0.201004</td><td>0.0</td><td>0.21252</td><td>0.0</td><td>0.0</td><td>0.434797</td><td>0.449639</td><td>0.0</td><td>0.586322</td><td>0.0</td><td>0</td><td>0</td><td>0</td><td>0</td><td>0</td><td>0</td><td>0</td><td>0</td><td>0</td><td>0</td><td>0</td><td>0</td><td>0</td><td>0</td><td>0.0</td><td>1.48884</td><td>1.4297</td><td>0.0</td><td>1.4276</td><td>0.0</td><td>0.0</td><td>543.307</td><td>308.999</td><td>0.0</td><td>168.288</td><td>0.0</td><td>0.0</td><td>344.304</td><td>190.307</td><td>0.0</td><td>102.246</td><td>0.0</td><td>1346p000</td><td>1.0</td><td>1.0</td><td>7.4227</td><td>1419.35</td><td>-0.208328</td><td>31032.5</td><td>0.247461</td><td>37112.6</td><td>0.0</td><td>0.0</td><td>0.0</td><td>0.0</td><td>0.0</td><td>0.0</td><td>5.21891e-09 .. 1.05173e-07</td><td>1.34381e+19 .. 4.34499e+18</td><td>3.61766e-09 .. 1.03739e-07</td><td>11.7122</td><td>1.77343e-05 .. 4.44375e-25</td><td>158.543</td><td>1.11109e-16</td><td>1.8969e-16</td><td>-20.2774 .. -24.6005</td><td>310.49 .. 40771.0</td><td>-0.726808 .. 0.335515</td></tr>\n",
       "<tr><td>4347055</td><td>GAMAJ115412.54-000153.2</td><td>8</td><td>2</td><td>0</td><td>0.04</td><td>319893319972841472</td><td>SDSS</td><td>1</td><td>178.55228</td><td>-0.03146</td><td>3808.03</td><td>9215.1</td><td>0.72998</td><td>5</td><td>0.0</td><td>/GAMA/dr3/data/spectra/sdss/spec-0284-51943-0501.fit</td><td>http://www.gama-survey.org/dr3/data/spectra/sdss/spec-0284-51943-0501.fit</td><td>http://www.gama-survey.org/dr3/data/spectra/sdss/png/spec-0284-51943-0501.png</td><td>0.953326</td><td>8.15631</td><td>-99999.0</td><td>G12</td><td>5000</td><td>331082</td><td>1786p000</td><td>2138</td><td>PSF</td><td>178.552257445</td><td>-0.0314744679926</td><td>6.8287e+13</td><td>7.24964e+13</td><td>2.0107e+06 .. 2.01208e+06</td><td>0.0201553</td><td>0.0</td><td>87.4029</td><td>72.9734</td><td>0.0</td><td>92.0314</td><td>0.0</td><td>417.571</td><td>741.738</td><td>1954.81</td><td>5482.81</td><td>0.0</td><td>132.37</td><td>86.794</td><td>0.0</td><td>63.6817</td><td>0.0</td><td>1.51017</td><td>0.299557</td><td>0.000889833</td><td>1.93847e-05</td><td>0.928521</td><td>0.942081</td><td>0.960606</td><td>0.970879</td><td>0.97777</td><td>0.980442</td><td>0.99659</td><td>0.997904</td><td>0.999553</td><td>0.999831</td><td>0</td><td>3</td><td>3</td><td>0</td><td>4</td><td>0</td><td>66</td><td>66</td><td>13</td><td>13</td><td>0.0</td><td>255.433</td><td>4.86964</td><td>0.0</td><td>74.6464</td><td>0.0</td><td>123.9</td><td>48.4179</td><td>2.7978</td><td>0.352617</td><td>0.0</td><td>8.47916e-06</td><td>9.8445e-05</td><td>0.0</td><td>5.662e-05</td><td>0.0</td><td>0.0200604</td><td>0.0162282</td><td>0.0526624</td><td>0.157266</td><td>0.0</td><td>0.00836066</td><td>0.00980055</td><td>0.0</td><td>0.0194894</td><td>0.0</td><td>0.0</td><td>1.01581</td><td>1.03532</td><td>0.0</td><td>1.0259</td><td>0.0</td><td>0</td><td>0</td><td>0</td><td>0</td><td>0</td><td>0</td><td>0</td><td>0</td><td>0</td><td>0</td><td>0</td><td>0</td><td>0</td><td>0</td><td>0.0</td><td>1.3784</td><td>1.83007</td><td>0.0</td><td>1.39126</td><td>0.0</td><td>0.0</td><td>1817.93</td><td>398.991</td><td>0.0</td><td>121.834</td><td>0.0</td><td>0.0</td><td>1110.32</td><td>257.903</td><td>0.0</td><td>73.7173</td><td>0.0</td><td>1784p000</td><td>0.0</td><td>0.0</td><td>0.0</td><td>0.0</td><td>0.0</td><td>0.0</td><td>0.0</td><td>0.0</td><td>0.0</td><td>0.0</td><td>0.0</td><td>0.0</td><td>0.0</td><td>0.0</td><td>9.27764e-08 .. 9.41238e-08</td><td>1.1748e+20 .. 6.08819e+19</td><td>8.77859e-08 .. 9.30342e-08</td><td>12.1306</td><td>1.11349e-05 .. 2.68249e-22</td><td>8809.75</td><td>2.3608e-16</td><td>1.81141e-16</td><td>-25.0176 .. -25.8414</td><td>857810.0 .. 457550.0</td><td>-0.659387 .. 0.148808</td></tr>\n",
       "<tr><td>8000279</td><td>GAMAJ020330.57-042019.2</td><td>128</td><td>1</td><td>1</td><td>0.0</td><td>G02_Y6_013_166</td><td>GAMA</td><td>5</td><td>30.87738</td><td>-4.33868</td><td>3726.34</td><td>8856.36</td><td>0.17494</td><td>4</td><td>1.0</td><td>/GAMA/dr3/data/spectra/gama/reduced_27/1d/G02_Y6_013_166.fit</td><td>http://www.gama-survey.org/dr3/data/spectra/gama/reduced_27/1d/G02_Y6_013_166.fit</td><td>http://www.gama-survey.org/dr3/data/spectra/gama/reduced_27/1d/png/G02_Y6_013_166.png</td><td>1.3119</td><td>2.1383</td><td>11.4811</td><td>G02</td><td>5000</td><td>306021</td><td>0309m042</td><td>738</td><td>DEV</td><td>30.877376152</td><td>-4.33866513497</td><td>4.73221e+12</td><td>5.10871e+12</td><td>321160.0 .. 477421.0</td><td>0.0236586</td><td>0.0</td><td>33.3001</td><td>74.2671</td><td>0.0</td><td>133.141</td><td>0.0</td><td>199.992</td><td>262.769</td><td>295.617</td><td>697.639</td><td>0.0</td><td>89.2084</td><td>38.4934</td><td>0.0</td><td>9.24636</td><td>0.0</td><td>1.20334</td><td>0.252042</td><td>0.00111282</td><td>2.7405e-05</td><td>0.916629</td><td>0.932362</td><td>0.953919</td><td>0.965904</td><td>0.973957</td><td>0.977082</td><td>0.995999</td><td>0.997541</td><td>0.999475</td><td>0.999802</td><td>0</td><td>3</td><td>2</td><td>0</td><td>4</td><td>0</td><td>88</td><td>90</td><td>21</td><td>21</td><td>0.0</td><td>1.92443</td><td>3.78301</td><td>0.0</td><td>1.60118</td><td>0.0</td><td>134.034</td><td>33.1262</td><td>0.772551</td><td>0.0930573</td><td>0.0</td><td>0.00041528</td><td>0.0002745</td><td>0.0</td><td>0.000280338</td><td>0.0</td><td>0.167458</td><td>0.19082</td><td>0.138448</td><td>0.708125</td><td>0.0</td><td>0.0394307</td><td>0.0377811</td><td>0.0</td><td>0.0370904</td><td>0.0</td><td>0.0</td><td>0.977573</td><td>0.96842</td><td>0.0</td><td>0.976978</td><td>0.0</td><td>0</td><td>0</td><td>0</td><td>0</td><td>0</td><td>0</td><td>0</td><td>0</td><td>0</td><td>0</td><td>0</td><td>0</td><td>0</td><td>0</td><td>0.0</td><td>1.69768</td><td>1.1094</td><td>0.0</td><td>1.2659</td><td>0.0</td><td>0.0</td><td>856.291</td><td>849.363</td><td>0.0</td><td>89.2479</td><td>0.0</td><td>0.0</td><td>591.841</td><td>434.671</td><td>0.0</td><td>49.3966</td><td>0.0</td><td>0303m046</td><td>1.0</td><td>1.0</td><td>1.88059</td><td>48588.3</td><td>-0.00993008</td><td>147690.0</td><td>0.110318</td><td>298693.0</td><td>0.0</td><td>0.0</td><td>0.0</td><td>0.0</td><td>0.0</td><td>0.0</td><td>3.57158e-08 .. 1.36701e-07</td><td>7.75487e+19 .. 8.77102e+18</td><td>3.5718e-08 .. 1.36706e-07</td><td>10.7821</td><td>2.81198e-06 .. 1.3922e-07</td><td>-0.0625</td><td>2.49845e-16</td><td>2.26173e-16</td><td>-19.6219 .. -22.3522</td><td>83916.6 .. 139041.0</td><td>-1.39354 .. -0.120509</td></tr>\n",
       "<tr><td>8000291</td><td>GAMAJ021238.53-043404.6</td><td>128</td><td>1</td><td>1</td><td>0.07</td><td>G02_Y6_007_086</td><td>GAMA</td><td>5</td><td>33.16058</td><td>-4.56795</td><td>3726.34</td><td>8856.36</td><td>0.01075</td><td>3</td><td>0.98</td><td>/GAMA/dr3/data/spectra/gama/reduced_27/1d/G02_Y6_007_086.fit</td><td>http://www.gama-survey.org/dr3/data/spectra/gama/reduced_27/1d/G02_Y6_007_086.fit</td><td>http://www.gama-survey.org/dr3/data/spectra/gama/reduced_27/1d/png/G02_Y6_007_086.png</td><td>1.01964</td><td>0.82506</td><td>2.3714</td><td>G02</td><td>5000</td><td>304594</td><td>0332m045</td><td>1611</td><td>PSF</td><td>33.1605749879</td><td>-4.56795437734</td><td>1.12549e+14</td><td>1.17989e+14</td><td>2.60315e+06 .. 2.60326e+06</td><td>0.0194508</td><td>0.0</td><td>64.6239</td><td>82.2363</td><td>0.0</td><td>76.0258</td><td>0.0</td><td>116.868</td><td>245.999</td><td>634.213</td><td>1038.35</td><td>0.0</td><td>219.905</td><td>159.67</td><td>0.0</td><td>104.664</td><td>0.0</td><td>1.88481</td><td>0.376695</td><td>0.00170182</td><td>3.63831e-05</td><td>0.930931</td><td>0.944048</td><td>0.961957</td><td>0.971882</td><td>0.978539</td><td>0.981119</td><td>0.996709</td><td>0.997978</td><td>0.999568</td><td>0.999837</td><td>0</td><td>5</td><td>4</td><td>0</td><td>6</td><td>0</td><td>78</td><td>80</td><td>23</td><td>23</td><td>0.0</td><td>28.7028</td><td>13.659</td><td>0.0</td><td>20.7471</td><td>0.0</td><td>8.6137</td><td>6.41882</td><td>0.626201</td><td>0.133423</td><td>0.0</td><td>7.02994e-06</td><td>8.72491e-06</td><td>0.0</td><td>2.67468e-05</td><td>0.0</td><td>0.0168708</td><td>0.0111471</td><td>0.070778</td><td>0.347442</td><td>0.0</td><td>0.00413806</td><td>0.0116547</td><td>0.0</td><td>0.0501065</td><td>0.0</td><td>0.0</td><td>1.02041</td><td>1.0132</td><td>0.0</td><td>0.910198</td><td>0.0</td><td>0</td><td>0</td><td>0</td><td>0</td><td>1024</td><td>0</td><td>0</td><td>0</td><td>0</td><td>0</td><td>0</td><td>0</td><td>0</td><td>0</td><td>0.0</td><td>1.85693</td><td>1.15871</td><td>0.0</td><td>1.22248</td><td>0.0</td><td>0.0</td><td>1368.35</td><td>1361.18</td><td>0.0</td><td>210.965</td><td>0.0</td><td>0.0</td><td>961.964</td><td>683.725</td><td>0.0</td><td>103.409</td><td>0.0</td><td>0334m046</td><td>0.0</td><td>0.0</td><td>0.0</td><td>0.0</td><td>0.0</td><td>0.0</td><td>0.0</td><td>0.0</td><td>0.0</td><td>0.0</td><td>0.0</td><td>0.0</td><td>0.0</td><td>0.0</td><td>6.8454e-08 .. 7.76932e-08</td><td>1.95985e+20 .. 1.0022e+20</td><td>7.03116e-08 .. 8.2567e-08</td><td>7.46609</td><td>6.82e-27 .. 1.7504e-06</td><td>7664.0</td><td>3.15331e-16</td><td>2.00129e-16</td><td>-14.7789 .. -15.5795</td><td>779061.0 .. 513184.0</td><td>-0.643205 .. 0.0199513</td></tr>\n",
       "<tr><td>8001651</td><td>GAMAJ020303.01-045936.7</td><td>128</td><td>1</td><td>1</td><td>0.04</td><td>G02_Y6_016_237</td><td>GAMA</td><td>5</td><td>30.76254</td><td>-4.99353</td><td>3726.34</td><td>8856.36</td><td>0.50924</td><td>3</td><td>0.943</td><td>/GAMA/dr3/data/spectra/gama/reduced_27/1d/G02_Y6_016_237.fit</td><td>http://www.gama-survey.org/dr3/data/spectra/gama/reduced_27/1d/G02_Y6_016_237.fit</td><td>http://www.gama-survey.org/dr3/data/spectra/gama/reduced_27/1d/png/G02_Y6_016_237.png</td><td>1.65437</td><td>6.79486</td><td>-99999.0</td><td>G02</td><td>5000</td><td>301712</td><td>0307m050</td><td>3470</td><td>COMP</td><td>30.762560045</td><td>-4.99351441222</td><td>3.79055e+11</td><td>2.51732e+11</td><td>23272.7 .. 32522.2</td><td>0.0257305</td><td>0.0</td><td>7.16007</td><td>41.238</td><td>0.0</td><td>123.294</td><td>0.0</td><td>286.886</td><td>245.285</td><td>96.1753</td><td>-677.238</td><td>0.0</td><td>10.6655</td><td>16.3054</td><td>0.0</td><td>0.277094</td><td>0.0</td><td>0.0750332</td><td>0.0152994</td><td>8.33853e-05</td><td>2.61183e-06</td><td>0.909667</td><td>0.926661</td><td>0.949986</td><td>0.962975</td><td>0.971709</td><td>0.9751</td><td>0.995649</td><td>0.997326</td><td>0.999429</td><td>0.999784</td><td>0</td><td>3</td><td>4</td><td>0</td><td>2</td><td>0</td><td>92</td><td>90</td><td>23</td><td>23</td><td>0.0</td><td>0.883133</td><td>0.87415</td><td>0.0</td><td>0.938309</td><td>0.0</td><td>2.48937</td><td>0.672728</td><td>0.24179</td><td>0.0503771</td><td>0.0</td><td>0.0415223</td><td>0.0362424</td><td>0.0</td><td>0.0694266</td><td>0.0</td><td>0.728561</td><td>0.522529</td><td>3.12657</td><td>3.65083</td><td>0.0</td><td>0.17986</td><td>0.17899</td><td>0.0</td><td>0.18356</td><td>0.0</td><td>0.0</td><td>0.27101</td><td>0.270283</td><td>0.0</td><td>0.184944</td><td>0.0</td><td>0</td><td>0</td><td>0</td><td>0</td><td>0</td><td>0</td><td>0</td><td>0</td><td>0</td><td>0</td><td>0</td><td>0</td><td>0</td><td>0</td><td>0.0</td><td>1.4398</td><td>1.37124</td><td>0.0</td><td>1.21606</td><td>0.0</td><td>0.0</td><td>1190.74</td><td>2157.02</td><td>0.0</td><td>36.7726</td><td>0.0</td><td>0.0</td><td>722.197</td><td>1270.62</td><td>0.0</td><td>19.979</td><td>0.0</td><td>0303m046</td><td>0.863868</td><td>1.39626e+06</td><td>142.359</td><td>18.7008</td><td>-0.143907</td><td>1301.66</td><td>-0.793738</td><td>7264.92</td><td>1.07836</td><td>10347.3</td><td>0.241209</td><td>9729.08</td><td>-0.375572</td><td>11497.7</td><td>7.72674e-09 .. 1.26884e-07</td><td>9.15846e+18 .. 2.61637e+17</td><td>8.17825e-09 .. 1.27575e-07</td><td>11.9726</td><td>1.53168e-05 .. 7.42907e-10</td><td>2.10547</td><td>2.14865e-16</td><td>2.54794e-16</td><td>-21.6607 .. -25.3505</td><td>463.838 .. 3573.23</td><td>-0.368193 .. 0.283093</td></tr>\n",
       "<tr><td>8002951</td><td>GAMAJ020256.82-042247.2</td><td>128</td><td>1</td><td>1</td><td>0.07</td><td>G02_Y6_013_169</td><td>GAMA</td><td>5</td><td>30.73675</td><td>-4.37978</td><td>3726.34</td><td>8856.36</td><td>0.30289</td><td>4</td><td>1.0</td><td>/GAMA/dr3/data/spectra/gama/reduced_27/1d/G02_Y6_013_169.fit</td><td>http://www.gama-survey.org/dr3/data/spectra/gama/reduced_27/1d/G02_Y6_013_169.fit</td><td>http://www.gama-survey.org/dr3/data/spectra/gama/reduced_27/1d/png/G02_Y6_013_169.png</td><td>1.05098</td><td>19.9827</td><td>81.079</td><td>G02</td><td>5000</td><td>304584</td><td>0307m045</td><td>4626</td><td>REX</td><td>30.7367614586</td><td>-4.37977515081</td><td>6.7107e+12</td><td>6.92684e+12</td><td>252646.0 .. 265918.0</td><td>0.0253393</td><td>0.0</td><td>12.5465</td><td>23.1961</td><td>0.0</td><td>43.2157</td><td>0.0</td><td>102.355</td><td>128.163</td><td>402.741</td><td>1551.09</td><td>0.0</td><td>383.693</td><td>203.372</td><td>0.0</td><td>51.4593</td><td>0.0</td><td>2.06004</td><td>0.400893</td><td>0.00175039</td><td>3.7631e-05</td><td>0.910978</td><td>0.927735</td><td>0.950728</td><td>0.963527</td><td>0.972133</td><td>0.975474</td><td>0.995715</td><td>0.997366</td><td>0.999438</td><td>0.999788</td><td>0</td><td>3</td><td>2</td><td>0</td><td>4</td><td>0</td><td>91</td><td>90</td><td>24</td><td>24</td><td>0.0</td><td>4.72376</td><td>8.90997</td><td>0.0</td><td>4.14455</td><td>0.0</td><td>5.00188</td><td>1.50699</td><td>0.748174</td><td>0.124051</td><td>0.0</td><td>1.95958e-05</td><td>4.59192e-06</td><td>0.0</td><td>3.13905e-05</td><td>0.0</td><td>0.0115774</td><td>0.0390389</td><td>0.0643672</td><td>0.36326</td><td>0.0</td><td>0.00723042</td><td>0.00377762</td><td>0.0</td><td>0.0152974</td><td>0.0</td><td>0.0</td><td>1.02134</td><td>1.0121</td><td>0.0</td><td>1.02317</td><td>0.0</td><td>0</td><td>0</td><td>0</td><td>0</td><td>0</td><td>0</td><td>0</td><td>0</td><td>0</td><td>0</td><td>0</td><td>0</td><td>0</td><td>0</td><td>0.0</td><td>1.69135</td><td>1.13122</td><td>0.0</td><td>1.24594</td><td>0.0</td><td>0.0</td><td>918.121</td><td>830.62</td><td>0.0</td><td>92.3627</td><td>0.0</td><td>0.0</td><td>632.305</td><td>434.235</td><td>0.0</td><td>48.3556</td><td>0.0</td><td>0303m046</td><td>0.0</td><td>0.0</td><td>0.0</td><td>0.0</td><td>0.0</td><td>0.0</td><td>0.0</td><td>0.0</td><td>0.292364</td><td>364015.0</td><td>0.0</td><td>0.0</td><td>0.0</td><td>0.0</td><td>1.35238e-08 .. 4.44545e-08</td><td>3.30241e+20 .. 4.86313e+19</td><td>1.35238e-08 .. 4.44545e-08</td><td>10.8263</td><td>3.07917e-06 .. 6.95626e-08</td><td>0.0</td><td>8.56351e-17</td><td>7.6407e-17</td><td>-20.7512 .. -22.5903</td><td>51236.3 .. 81526.4</td><td>-0.555984 .. -0.00896818</td></tr>\n",
       "</table>"
      ],
      "text/plain": [
       "<Table length=123646>\n",
       " CATAID        GAMA_NAME        ...  UGRIZ_KCORRECT_01 [5]  \n",
       " int32          bytes23         ...         float32         \n",
       "------- ----------------------- ... ------------------------\n",
       "   6802 GAMAJ113601.43+004315.3 ...    -1.45593 .. -0.114768\n",
       "   6806 GAMAJ113605.47+004221.3 ...   -0.728269 .. 0.0237063\n",
       "   6808 GAMAJ113624.17+003932.1 ...   -1.36977 .. -0.0765486\n",
       "   6810 GAMAJ113626.18+004814.0 ...      -1.011 .. 0.0712073\n",
       "   6813 GAMAJ113615.31+003840.3 ...   -0.425257 .. 0.0386268\n",
       "   6820 GAMAJ113608.43+004721.4 ...    -0.557698 .. 0.104562\n",
       "   6826 GAMAJ113644.38+004232.5 ...    -1.42084 .. -0.116668\n",
       "   6830 GAMAJ113707.32+004221.9 ...    -1.25652 .. -0.124488\n",
       "   6837 GAMAJ113712.66+004723.9 ...    -1.45989 .. -0.115686\n",
       "   6838 GAMAJ113713.33+004725.2 ...    -1.23305 .. -0.104071\n",
       "    ...                     ... ...                      ...\n",
       "4205072 GAMAJ114943.22-022454.6 ...    -0.411462 .. -0.10315\n",
       "4209287 GAMAJ120806.00-022337.8 ...    -0.710494 .. -0.61743\n",
       "4210898 GAMAJ121440.04-022100.9 ...    -0.399411 .. 0.179542\n",
       "4226281 GAMAJ114039.84-012943.7 ...     -0.7144 .. -0.774523\n",
       "4238707 GAMAJ085849.49-004105.3 ...    -0.726808 .. 0.335515\n",
       "4347055 GAMAJ115412.54-000153.2 ...    -0.659387 .. 0.148808\n",
       "8000279 GAMAJ020330.57-042019.2 ...    -1.39354 .. -0.120509\n",
       "8000291 GAMAJ021238.53-043404.6 ...   -0.643205 .. 0.0199513\n",
       "8001651 GAMAJ020303.01-045936.7 ...    -0.368193 .. 0.283093\n",
       "8002951 GAMAJ020256.82-042247.2 ... -0.555984 .. -0.00896818"
      ]
     },
     "execution_count": 34,
     "metadata": {},
     "output_type": "execute_result"
    }
   ],
   "source": [
    "gama = read_gama_sample()\n",
    "gama"
   ]
  },
  {
   "cell_type": "markdown",
   "metadata": {},
   "source": [
    "## Visualize the tiling of the G02, G09, G12, and G15 GAMA fields.\n",
    "\n",
    "Here, we use a tiling solution generated by Kyle Dawson but we change the program name to DARK and set OBSCONDITIONS to zero (=DARK) until the appropriate hooks can be added to *desisurvey*."
   ]
  },
  {
   "cell_type": "code",
   "execution_count": 35,
   "metadata": {},
   "outputs": [],
   "source": [
    "def plot_tile(ra, dec, r=1.606, color='k', ax=None):\n",
    "    '''Approximate plot of tile location'''\n",
    "    ang = np.linspace(0, 2*np.pi, 100)\n",
    "    x = ra + r*np.cos(ang)/np.cos(np.radians(dec))\n",
    "    y = dec + r*np.sin(ang)\n",
    "    if ax is None:\n",
    "        fig, ax = plt.subplots()\n",
    "    ax.plot(x,y, '-', color=color, alpha=0.5)"
   ]
  },
  {
   "cell_type": "code",
   "execution_count": 54,
   "metadata": {},
   "outputs": [],
   "source": [
    "def fix_tiles():\n",
    "    \"\"\"Ad hoc changes to the nominal tile file so we can get desisurvey running.\"\"\"\n",
    "\n",
    "    dawsonfile = os.path.join(codedir, 'bgs-gama-tiles-kdawson.fits')\n",
    "    if os.path.isfile(dawsonfile):\n",
    "        tiles = Table(fitsio.read(tilesfile, ext=1))\n",
    "        print('Updating PROGRAM and OBSCONDITIONS in {}'.format(dawsonfile))\n",
    "        tiles['PROGRAM'] = 'DARK'\n",
    "        tiles['OBSCONDITIONS'] = 0 # dark\n",
    "        print('Writing {}'.format(tilesfile))\n",
    "        tiles.write(tilesfile, overwrite=True)\n",
    "    else:\n",
    "        print('Dawson tiles file {} not found!'.format(dawsonfile))"
   ]
  },
  {
   "cell_type": "code",
   "execution_count": 49,
   "metadata": {},
   "outputs": [],
   "source": [
    "def read_gama_tiles(overwrite=False):\n",
    "    \"\"\"Read the tiles file.\"\"\"\n",
    "    \n",
    "    if overwrite:\n",
    "        fix_tiles()\n",
    "    \n",
    "    if os.path.isfile(tilesfile):\n",
    "        tiles = Table(fitsio.read(tilesfile, ext=1))\n",
    "        print('Read {} tiles from {}'.format(len(tiles), tilesfile))\n",
    "    else:\n",
    "        print('Tiles file {} not found!'.format(tilesfile))\n",
    "        tiles = []\n",
    "    return tiles"
   ]
  },
  {
   "cell_type": "code",
   "execution_count": 50,
   "metadata": {},
   "outputs": [],
   "source": [
    "def qa_gama_tiles(gama=None, tiles=None, gamafield=None, overwrite=False):\n",
    "    \n",
    "    if gama is None:\n",
    "        gama = read_gama_sample()\n",
    "    if tiles is None:\n",
    "        tiles = read_gama_tiles()\n",
    "\n",
    "    fig, ax = plt.subplots(2, 2, figsize=(10, 6))\n",
    "    ax = ax.reshape(4)\n",
    "    \n",
    "    for thisax, field in zip(ax, sorted(set(gama['FIELD']))):\n",
    "        \n",
    "        infield = gama['FIELD'] == field\n",
    "    \n",
    "        if np.count_nonzero(infield) > 0:\n",
    "            thisax.scatter(gama['RA'][infield], gama['DEC'][infield], \n",
    "                           s=1, alpha=0.5, marker='s')\n",
    "        \n",
    "            ww = ( (tiles['RA'] > gama['RA'][infield].min()) * (tiles['RA'] < gama['RA'][infield].max()) * \n",
    "                   (tiles['DEC'] > gama['DEC'][infield].min()) * (tiles['DEC'] < gama['DEC'][infield].max()) )\n",
    "            for tt in tiles[ww]:\n",
    "                plot_tile(tt['RA'], tt['DEC'], ax=thisax)\n",
    "            \n",
    "        thisax.set_xlabel('RA')\n",
    "        thisax.set_ylabel('Dec')\n",
    "        thisax.invert_xaxis()\n",
    "        thisax.set_title(field)\n",
    "    \n",
    "    fig.tight_layout()\n",
    "    if overwrite:\n",
    "        pngfile = os.path.join(basedir, 'qaplots', 'qa-gama-tiles.png')\n",
    "        print('Writing {}'.format(pngfile))\n",
    "        fig.savefig(pngfile)    "
   ]
  },
  {
   "cell_type": "code",
   "execution_count": 53,
   "metadata": {},
   "outputs": [
    {
     "name": "stdout",
     "output_type": "stream",
     "text": [
      "Read 94 tiles from /global/cscratch1/sd/ioannis/repos/survey-validation/svdc-summer2018/bgs-gama-tiles-kdawson.fits\n",
      "Updating PROGRAM and OBSCONDITIONS.\n",
      "Writing /global/cscratch1/sd/ioannis/repos/survey-validation/svdc-summer2018/bgs-gama-tiles.fits\n",
      "Read 94 tiles from /global/cscratch1/sd/ioannis/repos/survey-validation/svdc-summer2018/bgs-gama-tiles.fits\n"
     ]
    },
    {
     "data": {
      "text/html": [
       "&lt;Table length=94&gt;\n",
       "<table id=\"table47825977632360\" class=\"table-striped table-bordered table-condensed\">\n",
       "<thead><tr><th>TILEID</th><th>RA</th><th>DEC</th><th>PASS</th><th>IN_DESI</th><th>EBV_MED</th><th>AIRMASS</th><th>STAR_DENSITY</th><th>EXPOSEFAC</th><th>PROGRAM</th><th>OBSCONDITIONS</th></tr></thead>\n",
       "<thead><tr><th>int32</th><th>float64</th><th>float64</th><th>int16</th><th>int16</th><th>float32</th><th>float32</th><th>float32</th><th>float32</th><th>bytes6</th><th>int32</th></tr></thead>\n",
       "<tr><td>100000</td><td>212.399993896</td><td>-0.819999992847</td><td>20</td><td>1</td><td>0.0504712</td><td>1.0</td><td>1.0</td><td>1.0</td><td>DARK</td><td>0</td></tr>\n",
       "<tr><td>100001</td><td>213.199996948</td><td>-0.800000011921</td><td>20</td><td>1</td><td>0.0498524</td><td>1.0</td><td>1.0</td><td>1.0</td><td>DARK</td><td>0</td></tr>\n",
       "<tr><td>100002</td><td>214.0</td><td>-0.77999997139</td><td>20</td><td>1</td><td>0.049985</td><td>1.0</td><td>1.0</td><td>1.0</td><td>DARK</td><td>0</td></tr>\n",
       "<tr><td>100003</td><td>214.799987793</td><td>-0.759999990463</td><td>20</td><td>1</td><td>0.0459586</td><td>1.0</td><td>1.0</td><td>1.0</td><td>DARK</td><td>0</td></tr>\n",
       "<tr><td>100004</td><td>215.599990845</td><td>-0.819999992847</td><td>20</td><td>1</td><td>0.0451689</td><td>1.0</td><td>1.0</td><td>1.0</td><td>DARK</td><td>0</td></tr>\n",
       "<tr><td>100005</td><td>216.399993896</td><td>-0.800000011921</td><td>20</td><td>1</td><td>0.042806</td><td>1.0</td><td>1.0</td><td>1.0</td><td>DARK</td><td>0</td></tr>\n",
       "<tr><td>100006</td><td>217.199996948</td><td>-0.77999997139</td><td>20</td><td>1</td><td>0.0435473</td><td>1.0</td><td>1.0</td><td>1.0</td><td>DARK</td><td>0</td></tr>\n",
       "<tr><td>100007</td><td>218.0</td><td>-0.759999990463</td><td>20</td><td>1</td><td>0.042242</td><td>1.0</td><td>1.0</td><td>1.0</td><td>DARK</td><td>0</td></tr>\n",
       "<tr><td>100008</td><td>218.799987793</td><td>-0.819999992847</td><td>20</td><td>1</td><td>0.042335</td><td>1.0</td><td>1.0</td><td>1.0</td><td>DARK</td><td>0</td></tr>\n",
       "<tr><td>100009</td><td>219.599990845</td><td>-0.800000011921</td><td>20</td><td>1</td><td>0.0415368</td><td>1.0</td><td>1.0</td><td>1.0</td><td>DARK</td><td>0</td></tr>\n",
       "<tr><td>...</td><td>...</td><td>...</td><td>...</td><td>...</td><td>...</td><td>...</td><td>...</td><td>...</td><td>...</td><td>...</td></tr>\n",
       "<tr><td>100084</td><td>31.1000003815</td><td>-5.0</td><td>20</td><td>1</td><td>0.0235513</td><td>1.0</td><td>1.0</td><td>1.0</td><td>DARK</td><td>0</td></tr>\n",
       "<tr><td>100085</td><td>31.8999996185</td><td>-5.0</td><td>20</td><td>1</td><td>0.0227705</td><td>1.0</td><td>1.0</td><td>1.0</td><td>DARK</td><td>0</td></tr>\n",
       "<tr><td>100086</td><td>32.7000007629</td><td>-5.0</td><td>20</td><td>1</td><td>0.0222749</td><td>1.0</td><td>1.0</td><td>1.0</td><td>DARK</td><td>0</td></tr>\n",
       "<tr><td>100087</td><td>33.5</td><td>-5.0</td><td>20</td><td>1</td><td>0.02236</td><td>1.0</td><td>1.0</td><td>1.0</td><td>DARK</td><td>0</td></tr>\n",
       "<tr><td>100088</td><td>34.2999992371</td><td>-5.0</td><td>20</td><td>1</td><td>0.0223557</td><td>1.0</td><td>1.0</td><td>1.0</td><td>DARK</td><td>0</td></tr>\n",
       "<tr><td>100089</td><td>35.0999984741</td><td>-5.0</td><td>20</td><td>1</td><td>0.0228831</td><td>1.0</td><td>1.0</td><td>1.0</td><td>DARK</td><td>0</td></tr>\n",
       "<tr><td>100090</td><td>35.9000015259</td><td>-5.0</td><td>20</td><td>1</td><td>0.024827</td><td>1.0</td><td>1.0</td><td>1.0</td><td>DARK</td><td>0</td></tr>\n",
       "<tr><td>100091</td><td>36.7000007629</td><td>-5.0</td><td>20</td><td>1</td><td>0.0259904</td><td>1.0</td><td>1.0</td><td>1.0</td><td>DARK</td><td>0</td></tr>\n",
       "<tr><td>100092</td><td>37.5</td><td>-5.0</td><td>20</td><td>1</td><td>0.0256046</td><td>1.0</td><td>1.0</td><td>1.0</td><td>DARK</td><td>0</td></tr>\n",
       "<tr><td>100093</td><td>38.2999992371</td><td>-5.0</td><td>20</td><td>1</td><td>0.0250538</td><td>1.0</td><td>1.0</td><td>1.0</td><td>DARK</td><td>0</td></tr>\n",
       "</table>"
      ],
      "text/plain": [
       "<Table length=94>\n",
       "TILEID       RA            DEC        PASS ... EXPOSEFAC PROGRAM OBSCONDITIONS\n",
       "int32     float64        float64     int16 ...  float32   bytes6     int32    \n",
       "------ ------------- --------------- ----- ... --------- ------- -------------\n",
       "100000 212.399993896 -0.819999992847    20 ...       1.0    DARK             0\n",
       "100001 213.199996948 -0.800000011921    20 ...       1.0    DARK             0\n",
       "100002         214.0  -0.77999997139    20 ...       1.0    DARK             0\n",
       "100003 214.799987793 -0.759999990463    20 ...       1.0    DARK             0\n",
       "100004 215.599990845 -0.819999992847    20 ...       1.0    DARK             0\n",
       "100005 216.399993896 -0.800000011921    20 ...       1.0    DARK             0\n",
       "100006 217.199996948  -0.77999997139    20 ...       1.0    DARK             0\n",
       "100007         218.0 -0.759999990463    20 ...       1.0    DARK             0\n",
       "100008 218.799987793 -0.819999992847    20 ...       1.0    DARK             0\n",
       "100009 219.599990845 -0.800000011921    20 ...       1.0    DARK             0\n",
       "   ...           ...             ...   ... ...       ...     ...           ...\n",
       "100084 31.1000003815            -5.0    20 ...       1.0    DARK             0\n",
       "100085 31.8999996185            -5.0    20 ...       1.0    DARK             0\n",
       "100086 32.7000007629            -5.0    20 ...       1.0    DARK             0\n",
       "100087          33.5            -5.0    20 ...       1.0    DARK             0\n",
       "100088 34.2999992371            -5.0    20 ...       1.0    DARK             0\n",
       "100089 35.0999984741            -5.0    20 ...       1.0    DARK             0\n",
       "100090 35.9000015259            -5.0    20 ...       1.0    DARK             0\n",
       "100091 36.7000007629            -5.0    20 ...       1.0    DARK             0\n",
       "100092          37.5            -5.0    20 ...       1.0    DARK             0\n",
       "100093 38.2999992371            -5.0    20 ...       1.0    DARK             0"
      ]
     },
     "execution_count": 53,
     "metadata": {},
     "output_type": "execute_result"
    }
   ],
   "source": [
    "tiles = read_gama_tiles(overwrite=overwrite_tiles)\n",
    "tiles"
   ]
  },
  {
   "cell_type": "code",
   "execution_count": null,
   "metadata": {},
   "outputs": [],
   "source": [
    "qa_gama_tiles(gama, tiles)"
   ]
  },
  {
   "cell_type": "markdown",
   "metadata": {},
   "source": [
    "## Run survey simulations\n",
    "\n",
    "Simulate SV observing of the GAMA fields."
   ]
  },
  {
   "cell_type": "code",
   "execution_count": 29,
   "metadata": {},
   "outputs": [],
   "source": [
    "def survey_simulations(tiles, overwrite=False):\n",
    "    \"\"\"Run survey simulations.\"\"\"\n",
    "    expfile = os.path.join(surveydir, 'exposures.fits')\n",
    "    progressfile = os.path.join(surveydir, 'progress.fits')\n",
    "    \n",
    "    if overwrite or not os.path.isfile(expfile):\n",
    "        from desisurvey.progress import Progress\n",
    "        from desisurvey.config import Configuration\n",
    "        from surveysim.util import add_calibration_exposures\n",
    "    \n",
    "        Configuration.reset()\n",
    "        config = Configuration(surveyconfigfile)\n",
    "\n",
    "        survey_logname = os.path.join(surveydir, 'survey.log')\n",
    "        print('Running survey simulations; logging to {}'.format(survey_logname)) ; print()\n",
    "        \n",
    "        with open(survey_logname, 'w') as logfile:\n",
    "            cmd = \"surveyinit --recalc --config-file {} --output-path {}\".format(surveyconfigfile, surveydir)\n",
    "            print(cmd) ; print()\n",
    "            err = subprocess.call(cmd.split(), stdout=logfile, stderr=logfile)\n",
    "            assert err == 0\n",
    "\n",
    "            # Assume a zero-day fiber assignment delay..\n",
    "            cmd = \"surveyplan --config-file {} --rules {} --output-path {} --create --fa-delay 0d\".format(\n",
    "                surveyconfigfile, surveyrulesfile, surveydir)\n",
    "            print(cmd) ; print()\n",
    "            err = subprocess.call(cmd.split(), stdout=logfile, stderr=logfile)\n",
    "            assert err == 0\n",
    "\n",
    "            cmd = \"surveysim --config-file {} --output-path {} --seed {}\".format(\n",
    "                surveyconfigfile, surveydir, seed)\n",
    "            print(cmd) ; print()\n",
    "            err = subprocess.call(cmd.split(), stdout=logfile, stderr=logfile)\n",
    "            assert err == 0\n",
    "\n",
    "            # Do we need new rules?!?\n",
    "            plan_cmd = 'surveyplan --config-file {} --rules {} --output-path {} --fa-delay 0d'.format(\n",
    "                surveyconfigfile, surveyrulesfile, surveydir)\n",
    "            sim_cmd = 'surveysim --resume --config-file {} --output-path {} --seed {}'.format(\n",
    "                surveyconfigfile, surveydir, seed)\n",
    "            print(sim_cmd) ; print()\n",
    "            while True:\n",
    "                lastdate = open(os.path.join(surveydir, 'last_date.txt')).readline().strip()\n",
    "                progress = Table.read(os.path.join(surveydir, 'progress.fits'), 1)\n",
    "                ndone = np.count_nonzero(progress['status'] == 2)\n",
    "                print('Starting {} with {}/{} tiles completed {}'.format(\n",
    "                    lastdate, ndone, len(progress), time.asctime()))\n",
    "                if subprocess.call(plan_cmd.split(), stdout=logfile, stderr=logfile) != 0:\n",
    "                    break\n",
    "                if subprocess.call(sim_cmd.split(), stdout=logfile, stderr=logfile) != 0:\n",
    "                    break\n",
    "\n",
    "        # Make sure observing truly finished.\n",
    "        if not os.path.exists(progressfile):\n",
    "            print(\"ERROR: Missing {}\".format(progressfile))\n",
    "            print(\"Check {} for what might have gone wrong\".format(survey_logname))\n",
    "    \n",
    "        print('Files in {}:\\n'.format(surveydir))\n",
    "        !ls $surveydir\n",
    "        \n",
    "        # convert progress.fits -> exposures.fits\n",
    "        p = Progress(restore=os.path.join(surveydir, 'progress.fits'))\n",
    "        explist = p.get_exposures()\n",
    "        explist = add_calibration_exposures(explist)\n",
    "\n",
    "        # Sanity check that all tiles in the subset were observed in the exposures list.\n",
    "        if not np.all(np.in1d(tiles['TILEID'], explist['TILEID'])):\n",
    "            print(\"ERROR: some tiles weren't observed;\\ncheck {} for failures\".format(survey_logname) )\n",
    "            print(\"Missing TILEIDs:\", set(tiles['TILEID']) - set(explist['TILEID']))\n",
    "        else:\n",
    "            print('All tiles in the subset were observed at least once.')\n",
    "            explist.write(expfile, overwrite=True)\n",
    "            print('Writing {}'.format(expfile))                \n",
    "\n",
    "        # Optionally make a movie\n",
    "        if False:\n",
    "            cmd = \"surveymovie --config-file {} --output-path {}\".format(\n",
    "                surveyconfigfile, surveydir)\n",
    "            err = subprocess.call(cmd.split(), stdout=logfile, stderr=logfile)\n",
    "            assert err == 0\n",
    "    else:\n",
    "        print('Simulated observing already completed.')\n",
    "        explist = Table.read(expfile)\n",
    "        print('Read {} exposures from {}'.format(len(explist), expfile))\n",
    "\n",
    "    return explist"
   ]
  },
  {
   "cell_type": "code",
   "execution_count": 30,
   "metadata": {},
   "outputs": [
    {
     "name": "stdout",
     "output_type": "stream",
     "text": [
      "Running survey simulations; logging to /global/cscratch1/sd/ioannis/svdc-summer2018/survey/survey.log\n",
      "\n",
      "surveyinit --recalc --config-file /global/cscratch1/sd/ioannis/repos/survey-validation/svdc-summer2018/survey-config.yaml --output-path /global/cscratch1/sd/ioannis/svdc-summer2018/survey\n",
      "\n",
      "surveyplan --config-file /global/cscratch1/sd/ioannis/repos/survey-validation/svdc-summer2018/survey-config.yaml --rules /global/cscratch1/sd/ioannis/repos/survey-validation/svdc-summer2018/rules.yaml --output-path /global/cscratch1/sd/ioannis/svdc-summer2018/survey --create --fa-delay 0d\n",
      "\n",
      "surveysim --config-file /global/cscratch1/sd/ioannis/repos/survey-validation/svdc-summer2018/survey-config.yaml --output-path /global/cscratch1/sd/ioannis/svdc-summer2018/survey --seed 123\n",
      "\n",
      "surveysim --resume --config-file /global/cscratch1/sd/ioannis/repos/survey-validation/svdc-summer2018/survey-config.yaml --output-path /global/cscratch1/sd/ioannis/svdc-summer2018/survey --seed 123\n",
      "\n",
      "Starting 2019-09-02 with 0/94 tiles completed Wed Aug 15 14:16:07 2018\n",
      "Starting 2019-09-03 with 0/94 tiles completed Wed Aug 15 14:16:15 2018\n",
      "Starting 2019-09-04 with 0/94 tiles completed Wed Aug 15 14:16:19 2018\n",
      "Starting 2019-09-05 with 0/94 tiles completed Wed Aug 15 14:16:23 2018\n",
      "Starting 2019-09-06 with 0/94 tiles completed Wed Aug 15 14:16:27 2018\n",
      "Starting 2019-09-07 with 0/94 tiles completed Wed Aug 15 14:16:32 2018\n",
      "Starting 2019-09-08 with 0/94 tiles completed Wed Aug 15 14:16:36 2018\n",
      "Starting 2019-09-09 with 0/94 tiles completed Wed Aug 15 14:16:41 2018\n",
      "Starting 2019-09-10 with 0/94 tiles completed Wed Aug 15 14:16:45 2018\n",
      "Starting 2019-09-11 with 0/94 tiles completed Wed Aug 15 14:16:48 2018\n",
      "Starting 2019-09-12 with 0/94 tiles completed Wed Aug 15 14:16:55 2018\n",
      "Starting 2019-09-13 with 0/94 tiles completed Wed Aug 15 14:16:58 2018\n",
      "Starting 2019-09-14 with 0/94 tiles completed Wed Aug 15 14:17:03 2018\n",
      "Starting 2019-09-15 with 0/94 tiles completed Wed Aug 15 14:17:07 2018\n",
      "Starting 2019-09-16 with 0/94 tiles completed Wed Aug 15 14:17:10 2018\n",
      "Starting 2019-09-17 with 0/94 tiles completed Wed Aug 15 14:17:14 2018\n",
      "Starting 2019-09-18 with 0/94 tiles completed Wed Aug 15 14:17:17 2018\n",
      "Starting 2019-09-19 with 0/94 tiles completed Wed Aug 15 14:17:20 2018\n",
      "Starting 2019-09-20 with 0/94 tiles completed Wed Aug 15 14:17:25 2018\n",
      "Starting 2019-09-21 with 0/94 tiles completed Wed Aug 15 14:17:29 2018\n",
      "Starting 2019-09-22 with 0/94 tiles completed Wed Aug 15 14:17:34 2018\n",
      "Starting 2019-09-23 with 0/94 tiles completed Wed Aug 15 14:17:40 2018\n",
      "Starting 2019-09-24 with 0/94 tiles completed Wed Aug 15 14:17:47 2018\n",
      "Starting 2019-09-25 with 0/94 tiles completed Wed Aug 15 14:17:52 2018\n",
      "Starting 2019-09-26 with 0/94 tiles completed Wed Aug 15 14:17:56 2018\n",
      "Starting 2019-09-27 with 0/94 tiles completed Wed Aug 15 14:18:00 2018\n",
      "Starting 2019-09-28 with 0/94 tiles completed Wed Aug 15 14:18:04 2018\n",
      "Starting 2019-09-29 with 0/94 tiles completed Wed Aug 15 14:18:08 2018\n",
      "Starting 2019-09-30 with 0/94 tiles completed Wed Aug 15 14:18:12 2018\n",
      "Starting 2019-10-01 with 0/94 tiles completed Wed Aug 15 14:18:16 2018\n",
      "Starting 2019-10-02 with 0/94 tiles completed Wed Aug 15 14:18:21 2018\n",
      "Starting 2019-10-03 with 0/94 tiles completed Wed Aug 15 14:18:36 2018\n",
      "Starting 2019-10-04 with 0/94 tiles completed Wed Aug 15 14:18:41 2018\n",
      "Starting 2019-10-05 with 0/94 tiles completed Wed Aug 15 14:18:46 2018\n",
      "Starting 2019-10-06 with 0/94 tiles completed Wed Aug 15 14:18:50 2018\n",
      "Starting 2019-10-07 with 0/94 tiles completed Wed Aug 15 14:18:55 2018\n",
      "Starting 2019-10-08 with 0/94 tiles completed Wed Aug 15 14:19:00 2018\n",
      "Starting 2019-10-09 with 0/94 tiles completed Wed Aug 15 14:19:04 2018\n",
      "Starting 2019-10-10 with 0/94 tiles completed Wed Aug 15 14:19:10 2018\n",
      "Starting 2019-10-11 with 0/94 tiles completed Wed Aug 15 14:19:18 2018\n",
      "Starting 2019-10-12 with 0/94 tiles completed Wed Aug 15 14:19:22 2018\n",
      "Starting 2019-10-13 with 0/94 tiles completed Wed Aug 15 14:19:25 2018\n",
      "Starting 2019-10-14 with 0/94 tiles completed Wed Aug 15 14:19:29 2018\n",
      "Starting 2019-10-15 with 0/94 tiles completed Wed Aug 15 14:19:32 2018\n",
      "Starting 2019-10-16 with 0/94 tiles completed Wed Aug 15 14:19:35 2018\n",
      "Starting 2019-10-17 with 0/94 tiles completed Wed Aug 15 14:19:39 2018\n",
      "Starting 2019-10-18 with 0/94 tiles completed Wed Aug 15 14:19:43 2018\n",
      "Starting 2019-10-19 with 0/94 tiles completed Wed Aug 15 14:19:47 2018\n",
      "Starting 2019-10-20 with 0/94 tiles completed Wed Aug 15 14:19:52 2018\n",
      "Starting 2019-10-21 with 0/94 tiles completed Wed Aug 15 14:20:01 2018\n",
      "Starting 2019-10-22 with 0/94 tiles completed Wed Aug 15 14:20:04 2018\n",
      "Starting 2019-10-23 with 0/94 tiles completed Wed Aug 15 14:20:09 2018\n",
      "Starting 2019-10-24 with 0/94 tiles completed Wed Aug 15 14:20:13 2018\n",
      "Starting 2019-10-25 with 0/94 tiles completed Wed Aug 15 14:20:18 2018\n",
      "Starting 2019-10-26 with 0/94 tiles completed Wed Aug 15 14:20:22 2018\n",
      "Starting 2019-10-27 with 0/94 tiles completed Wed Aug 15 14:20:27 2018\n",
      "Starting 2019-10-28 with 0/94 tiles completed Wed Aug 15 14:20:36 2018\n",
      "Starting 2019-10-29 with 0/94 tiles completed Wed Aug 15 14:20:40 2018\n",
      "Starting 2019-10-30 with 0/94 tiles completed Wed Aug 15 14:20:45 2018\n",
      "Starting 2019-10-31 with 0/94 tiles completed Wed Aug 15 14:20:49 2018\n",
      "Files in /global/cscratch1/sd/ioannis/svdc-summer2018/survey:\n",
      "\n",
      "ephem_2019-04-01_2019-12-31.fits  plan.fits\t  survey.log\n",
      "ephem_2019-09-01_2019-10-31.fits  progress.fits   surveyinit.fits\n",
      "ephem_2019-09-01_2019-12-31.fits  scheduler.fits  tmp\n",
      "last_date.txt\t\t\t  stats.fits\t  weather_123.fits\n",
      "INFO:progress.py:145:__init__: Loaded progress from /global/cscratch1/sd/ioannis/svdc-summer2018/survey/progress.fits.\n"
     ]
    },
    {
     "name": "stderr",
     "output_type": "stream",
     "text": [
      "WARNING: ErfaWarning: ERFA function \"d2dtf\" yielded 1 of \"dubious year (Note 5)\" [astropy._erfa.core]\n",
      "WARNING: ErfaWarning: ERFA function \"dtf2d\" yielded 1 of \"dubious year (Note 6)\" [astropy._erfa.core]\n",
      "WARNING: ErfaWarning: ERFA function \"d2dtf\" yielded 1 of \"dubious year (Note 5)\" [astropy._erfa.core]\n",
      "WARNING: ErfaWarning: ERFA function \"dtf2d\" yielded 1 of \"dubious year (Note 6)\" [astropy._erfa.core]\n"
     ]
    },
    {
     "ename": "AssertionError",
     "evalue": "",
     "output_type": "error",
     "traceback": [
      "\u001b[0;31m---------------------------------------------------------------------------\u001b[0m",
      "\u001b[0;31mAssertionError\u001b[0m                            Traceback (most recent call last)",
      "\u001b[0;32m<timed exec>\u001b[0m in \u001b[0;36m<module>\u001b[0;34m()\u001b[0m\n",
      "\u001b[0;32m<ipython-input-29-ba156c0fb619>\u001b[0m in \u001b[0;36msurvey_simulations\u001b[0;34m(tiles, overwrite)\u001b[0m\n\u001b[1;32m     61\u001b[0m         \u001b[0;31m# convert progress.fits -> exposures.fits\u001b[0m\u001b[0;34m\u001b[0m\u001b[0;34m\u001b[0m\u001b[0m\n\u001b[1;32m     62\u001b[0m         \u001b[0mp\u001b[0m \u001b[0;34m=\u001b[0m \u001b[0mProgress\u001b[0m\u001b[0;34m(\u001b[0m\u001b[0mrestore\u001b[0m\u001b[0;34m=\u001b[0m\u001b[0mos\u001b[0m\u001b[0;34m.\u001b[0m\u001b[0mpath\u001b[0m\u001b[0;34m.\u001b[0m\u001b[0mjoin\u001b[0m\u001b[0;34m(\u001b[0m\u001b[0msurveydir\u001b[0m\u001b[0;34m,\u001b[0m \u001b[0;34m'progress.fits'\u001b[0m\u001b[0;34m)\u001b[0m\u001b[0;34m)\u001b[0m\u001b[0;34m\u001b[0m\u001b[0m\n\u001b[0;32m---> 63\u001b[0;31m         \u001b[0mexplist\u001b[0m \u001b[0;34m=\u001b[0m \u001b[0mp\u001b[0m\u001b[0;34m.\u001b[0m\u001b[0mget_exposures\u001b[0m\u001b[0;34m(\u001b[0m\u001b[0;34m)\u001b[0m\u001b[0;34m\u001b[0m\u001b[0m\n\u001b[0m\u001b[1;32m     64\u001b[0m         \u001b[0mexplist\u001b[0m \u001b[0;34m=\u001b[0m \u001b[0madd_calibration_exposures\u001b[0m\u001b[0;34m(\u001b[0m\u001b[0mexplist\u001b[0m\u001b[0;34m)\u001b[0m\u001b[0;34m\u001b[0m\u001b[0m\n\u001b[1;32m     65\u001b[0m \u001b[0;34m\u001b[0m\u001b[0m\n",
      "\u001b[0;32m/global/cscratch1/sd/ioannis/repos/desisurvey/py/desisurvey/progress.py\u001b[0m in \u001b[0;36mget_exposures\u001b[0;34m(self, start, stop, tile_fields, exp_fields)\u001b[0m\n\u001b[1;32m    546\u001b[0m         \u001b[0mtile_index\u001b[0m \u001b[0;34m=\u001b[0m \u001b[0mtile_index\u001b[0m\u001b[0;34m[\u001b[0m\u001b[0mfirst\u001b[0m\u001b[0;34m:\u001b[0m\u001b[0mlast\u001b[0m \u001b[0;34m+\u001b[0m \u001b[0;36m1\u001b[0m\u001b[0;34m]\u001b[0m\u001b[0;34m\u001b[0m\u001b[0m\n\u001b[1;32m    547\u001b[0m         \u001b[0morder\u001b[0m \u001b[0;34m=\u001b[0m \u001b[0morder\u001b[0m\u001b[0;34m[\u001b[0m\u001b[0mfirst\u001b[0m\u001b[0;34m:\u001b[0m\u001b[0mlast\u001b[0m \u001b[0;34m+\u001b[0m \u001b[0;36m1\u001b[0m\u001b[0;34m]\u001b[0m\u001b[0;34m\u001b[0m\u001b[0m\n\u001b[0;32m--> 548\u001b[0;31m         \u001b[0;32massert\u001b[0m \u001b[0mnp\u001b[0m\u001b[0;34m.\u001b[0m\u001b[0mall\u001b[0m\u001b[0;34m(\u001b[0m\u001b[0mexpid\u001b[0m\u001b[0;34m[\u001b[0m\u001b[0morder\u001b[0m\u001b[0;34m]\u001b[0m \u001b[0;34m>=\u001b[0m \u001b[0;36m0\u001b[0m\u001b[0;34m)\u001b[0m\u001b[0;34m\u001b[0m\u001b[0m\n\u001b[0m\u001b[1;32m    549\u001b[0m \u001b[0;34m\u001b[0m\u001b[0m\n\u001b[1;32m    550\u001b[0m         \u001b[0;31m# Create the output table.\u001b[0m\u001b[0;34m\u001b[0m\u001b[0;34m\u001b[0m\u001b[0m\n",
      "\u001b[0;31mAssertionError\u001b[0m: "
     ]
    },
    {
     "ename": "NameError",
     "evalue": "name 'explist' is not defined",
     "output_type": "error",
     "traceback": [
      "\u001b[0;31m---------------------------------------------------------------------------\u001b[0m",
      "\u001b[0;31mNameError\u001b[0m                                 Traceback (most recent call last)",
      "\u001b[0;32m<ipython-input-30-09904642f241>\u001b[0m in \u001b[0;36m<module>\u001b[0;34m()\u001b[0m\n\u001b[1;32m      1\u001b[0m \u001b[0mget_ipython\u001b[0m\u001b[0;34m(\u001b[0m\u001b[0;34m)\u001b[0m\u001b[0;34m.\u001b[0m\u001b[0mrun_line_magic\u001b[0m\u001b[0;34m(\u001b[0m\u001b[0;34m'time'\u001b[0m\u001b[0;34m,\u001b[0m \u001b[0;34m'explist = survey_simulations(tiles, overwrite=overwrite_surveysim)'\u001b[0m\u001b[0;34m)\u001b[0m\u001b[0;34m\u001b[0m\u001b[0m\n\u001b[0;32m----> 2\u001b[0;31m \u001b[0mexplist\u001b[0m\u001b[0;34m\u001b[0m\u001b[0m\n\u001b[0m",
      "\u001b[0;31mNameError\u001b[0m: name 'explist' is not defined"
     ]
    }
   ],
   "source": [
    "%time explist = survey_simulations(tiles, overwrite=overwrite_surveysim)\n",
    "explist"
   ]
  },
  {
   "cell_type": "markdown",
   "metadata": {},
   "source": [
    "#### Visualize which healpixels cover the observed tiles."
   ]
  },
  {
   "cell_type": "code",
   "execution_count": null,
   "metadata": {},
   "outputs": [],
   "source": [
    "def plot_healpix(nside, pixels, ax=None):\n",
    "    '''Plot healpix boundaries; doesn't work at RA wraparound'''\n",
    "    if ax is None:\n",
    "        fig, ax = plt.subplots()\n",
    "    for p in pixels:\n",
    "        xyz = hp.boundaries(nside, p, nest=True)\n",
    "        theta, phi = hp.vec2ang(xyz.T)\n",
    "        theta = np.concatenate([theta, theta[0:1]])\n",
    "        phi = np.concatenate([phi, phi[0:1]])\n",
    "        ra, dec = np.degrees(phi), 90-np.degrees(theta)\n",
    "        ax.plot(ra, dec, '-', color='0.6') "
   ]
  },
  {
   "cell_type": "code",
   "execution_count": null,
   "metadata": {},
   "outputs": [],
   "source": [
    "def tiles2pixels(tiles, nside=64):\n",
    "    import desimodel.footprint\n",
    "    pixels = desimodel.footprint.tiles2pix(nside, tiles)\n",
    "    nexp = np.count_nonzero(np.in1d(explist['TILEID'], tiles['TILEID']))\n",
    "    print('{} tiles covered by {} exposures and {} nside={} healpixels'.format(\n",
    "        len(tiles), nexp, len(pixels), nside))\n",
    "    return pixels"
   ]
  },
  {
   "cell_type": "code",
   "execution_count": null,
   "metadata": {},
   "outputs": [],
   "source": [
    "def qa_observed_tiles():\n",
    "    isbright = explist['PROGRAM'] == 'BRIGHT'\n",
    "    isgray = explist['PROGRAM'] == 'GRAY'\n",
    "    isdark = explist['PROGRAM'] == 'DARK'\n",
    "    \n",
    "    fig, ax = plt.subplots()\n",
    "    ax.plot(tiles['RA'], tiles['DEC'], 'k.', alpha=0.2, label='_none_')\n",
    "    ax.plot(explist['RA'][isdark], explist['DEC'][isdark], 'o', color='k', ms=10, mew=2, label='dark')\n",
    "    if np.sum(isgray) > 0:\n",
    "        ax.plot(explist['RA'][isgray], explist['DEC'][isgray], 's', \n",
    "                color='0.6', ms=10, label='gray')\n",
    "    if np.sum(isbright) > 0:\n",
    "        ax.plot(explist['RA'][isbright], explist['DEC'][isbright], 'd', \n",
    "                color='m', ms=10, mew=2, label='bright')\n",
    "    ax.legend(loc='upper right')\n",
    "    #ax.set_xlim(148, 157)\n",
    "    #ax.set_ylim(28, 37)"
   ]
  },
  {
   "cell_type": "code",
   "execution_count": null,
   "metadata": {},
   "outputs": [],
   "source": [
    "def qa_tiles2pixels(tiles, nside=64, overwrite=False):\n",
    "    \n",
    "    pixels = tiles2pixels(tiles, nside=nside)\n",
    "    sci = explist['FLAVOR'] == 'science'\n",
    "    \n",
    "    fig, (ax1, ax2) = plt.subplots(1, 2, figsize=(12, 4), sharey=True)\n",
    "    ax1.scatter(explist['RA'][sci], explist['DEC'][sci], marker='o', \n",
    "                alpha=0.7, label='Exposures')\n",
    "    ax1.scatter(tiles['RA'], tiles['DEC'], marker='s', edgecolor='k', \n",
    "                facecolor='none', lw=2, label='Tile Centers')\n",
    "    ax1.legend(loc='upper left', markerscale=1.5)\n",
    "    ax1.invert_xaxis()\n",
    "    ax1.set_xlabel('RA')\n",
    "    ax1.set_ylabel('Dec')\n",
    "\n",
    "    plot_healpix(nside, pixels, ax=ax2)\n",
    "    color = dict(DARK='k', GRAY='b', BRIGHT='m')\n",
    "    for program in ['DARK', 'GRAY', 'BRIGHT']:\n",
    "        ii = (tiles['PROGRAM'] == program)\n",
    "        ax2.plot(tiles['RA'][ii], tiles['DEC'][ii], '.', color=color[program], alpha=0.5)\n",
    "        jj = tiles['PROGRAM'] == program\n",
    "        for t in tiles[jj]:\n",
    "            plot_tile(t['RA'], t['DEC'], color=color[program], ax=ax2)\n",
    "            \n",
    "    xlim = ax2.get_xlim()\n",
    "    ax2.set_xlim(xlim)\n",
    "    ax1.set_xlim(xlim)\n",
    "    #xlim(143, 161); ylim(28, 37)\n",
    "    \n",
    "    fig.tight_layout()\n",
    "    if overwrite:\n",
    "        pngfile = os.path.join(basedir, 'qaplots', 'qa-gama-tiles-healpixels.png')\n",
    "        print('Writing {}'.format(pngfile))\n",
    "        fig.savefig(pngfile)        \n",
    "    \n",
    "    return pixels"
   ]
  },
  {
   "cell_type": "code",
   "execution_count": null,
   "metadata": {},
   "outputs": [],
   "source": [
    "pixels = qa_tiles2pixels(G02tiles, nside=nside_mock_targets, overwrite=overwrite_tiles)\n",
    "pixels"
   ]
  },
  {
   "cell_type": "markdown",
   "metadata": {},
   "source": [
    "## Simulate noiseless spectra using select_mock_targets.\n",
    "\n",
    "Then, merge the target, sky, and stdstar catalogs and build the Merged Target List (MTL) file."
   ]
  },
  {
   "cell_type": "code",
   "execution_count": null,
   "metadata": {},
   "outputs": [],
   "source": [
    "def is_select_mock_targets_done(tilesfile, nside=64, verbose=False):\n",
    "    \"\"\"Check whether select_mock_targets successfully finished.\"\"\"\n",
    "    tiles = Table(fitsio.read(tilesfile, ext=1))\n",
    "    pixels = tiles2pixels(tiles, nside=nside)\n",
    "    \n",
    "    done = True\n",
    "    for filetype in ['target', 'truth', 'sky', 'standards-dark', 'standards-bright']:\n",
    "        filenames = glob.glob(os.path.join(targetdir, '*', '*', '{}*.fits'.format(filetype)))\n",
    "        if verbose:\n",
    "            print('{}/{} {} files'.format(len(filenames), len(pixels), filetype))\n",
    "        if len(filenames) != len(pixels):\n",
    "            done = False\n",
    "    return done"
   ]
  },
  {
   "cell_type": "code",
   "execution_count": null,
   "metadata": {},
   "outputs": [],
   "source": [
    "def select_mock_targets(tilesfile, nside=64, overwrite=False, verbose=False):\n",
    "    \"\"\"Run select_mock_targets.\"\"\"\n",
    "    \n",
    "    logfilename = os.path.join(targetdir, 'select_mock_targets.log')\n",
    "    if overwrite or not is_select_mock_targets_done(tilesfile, nside=nside, verbose=verbose):\n",
    "            \n",
    "        print('Starting select_mock_targets at {}'.format(time.asctime()))\n",
    "        print('Logging to {}'.format(logfilename))\n",
    "\n",
    "        configfile = os.path.join(codedir, 'mock-targets.yaml')\n",
    "    \n",
    "        #cmd = \"srun -A desi -N 15 -n 30 -c 16 -C haswell -t 00:30:00 --qos interactive\"\n",
    "        #cmd += \" mpi_select_mock_targets --output_dir {targetdir} --config {configfile}\"\n",
    "        #cmd += \" --seed 1 --nproc 16 --nside 64 --tiles {tilefile}\"\n",
    "    \n",
    "        cmd = \"select_mock_targets --output_dir {targetdir} --config {configfile}\"\n",
    "        cmd += \" --seed {seed} --nproc 4 --nside {nside} --tiles {tilesfile} --overwrite\"\n",
    "        cmd = cmd.format(targetdir=targetdir, tilesfile=tilesfile, configfile=configfile, \n",
    "                         seed=seed, nside=nside)\n",
    "        print(cmd)\n",
    "    \n",
    "        with open(logfilename, 'w') as logfile:\n",
    "            err = subprocess.call(cmd.split(), stderr=logfile, stdout=logfile)\n",
    "            if err != 0:\n",
    "                print('select_mock_targets failed err={}; see {}'.format(err, logfilename))\n",
    "            else:\n",
    "                print('done at {}'.format(time.asctime()))\n",
    "                \n",
    "    else:\n",
    "        print('All done with select_mock_targets; see log file {}'.format(logfilename))            "
   ]
  },
  {
   "cell_type": "code",
   "execution_count": null,
   "metadata": {},
   "outputs": [],
   "source": [
    "def join_targets_truth_mtl(overwrite=False):\n",
    "    mtlfile = os.path.join(targetdir, 'mtl.fits')\n",
    "    truthfile = os.path.join(targetdir, 'truth.fits')\n",
    "    targetsfile = os.path.join(targetdir, 'targets.fits')\n",
    "\n",
    "    if (overwrite or not os.path.isfile(mtlfile) or not os.path.isfile(targetsfile) or\n",
    "        not os.path.isfile(truthfile)):\n",
    "        \n",
    "        cmd = \"join_mock_targets --mockdir {} --force\".format(targetdir)\n",
    "        print(cmd)\n",
    "        err = subprocess.call(cmd.split())\n",
    "        if err != 0:\n",
    "            print('join_mock_targets failed err={}'.format(err))\n",
    "        else:\n",
    "            print('Successfully joined all targets and truth catalogs.')\n",
    "    else:\n",
    "        print('Using existing truth.fits {}'.format(truthfile))        \n",
    "        print('Using existing targets.fits file {}'.format(targetsfile))        \n",
    "        print('Using existing merged target list {}'.format(mtlfile))        "
   ]
  },
  {
   "cell_type": "code",
   "execution_count": null,
   "metadata": {},
   "outputs": [],
   "source": [
    "%time select_mock_targets(G02tilesfile, nside=nside_mock_targets, verbose=True, overwrite=overwrite_mock_spectra)"
   ]
  },
  {
   "cell_type": "code",
   "execution_count": null,
   "metadata": {},
   "outputs": [],
   "source": [
    "%time join_targets_truth_mtl(overwrite=overwrite_mock_spectra)"
   ]
  },
  {
   "cell_type": "markdown",
   "metadata": {},
   "source": [
    "#### [ToDo] Targeting QA."
   ]
  },
  {
   "cell_type": "markdown",
   "metadata": {},
   "source": [
    "## Fiber assignment"
   ]
  },
  {
   "cell_type": "code",
   "execution_count": null,
   "metadata": {},
   "outputs": [],
   "source": [
    "def is_fiberassign_done(tilesfile, verbose=False):\n",
    "    \"\"\"Check whether fiberassign successfully finished.\"\"\"\n",
    "    \n",
    "    tiles = Table(fitsio.read(tilesfile, ext=1))\n",
    "    done = True\n",
    "    for tileid in tiles['TILEID']:\n",
    "        tilefile = os.path.join(fibassigndir, 'tile_{:05d}.fits'.format(tileid))\n",
    "        if not os.path.exists(tilefile):\n",
    "            done = False\n",
    "            if verbose:\n",
    "                print('Missing {}'.format(tilefile))\n",
    "\n",
    "    return done"
   ]
  },
  {
   "cell_type": "code",
   "execution_count": null,
   "metadata": {},
   "outputs": [],
   "source": [
    "def run_fiberassign(tilesfile, overwrite=False, verbose=False):\n",
    "    \n",
    "    logfilename = os.path.join(fibassigndir, 'fiberassign.log')\n",
    "    if overwrite or not is_fiberassign_done(tilesfile, verbose=verbose):\n",
    "\n",
    "        print('Generating lists of dark and bright tiles')\n",
    "        tiles = Table(fitsio.read(tilesfile, ext=1))\n",
    "\n",
    "        bx, dx = None, None\n",
    "        for tileid, program  in zip(tiles['TILEID'], tiles['PROGRAM']):\n",
    "            if program == 'BRIGHT':\n",
    "                if bx is None:\n",
    "                    bx = open(os.path.join(fibassigndir, 'bright-tiles.txt'), 'w')\n",
    "                bx.write(str(tileid)+'\\n')\n",
    "            else:\n",
    "                if dx is None:\n",
    "                    dx = open(os.path.join(fibassigndir, 'dark-tiles.txt'), 'w')\n",
    "                dx.write(str(tileid)+'\\n')\n",
    "        if bx:\n",
    "            bx.close()\n",
    "        if dx:\n",
    "            dx.close()\n",
    "\n",
    "        # Remove any leftover tile files\n",
    "        for tilefile in glob.glob(fibassigndir+'/tile_*.fits'):\n",
    "            os.remove(tilefile)\n",
    "\n",
    "        cmd = \"fiberassign \"\n",
    "        cmd += \" --mtl {}/mtl.fits\".format(targetdir)\n",
    "        cmd += \" --stdstar {}/{{stdfile}}\".format(targetdir)\n",
    "        cmd += \" --sky {}/sky.fits\".format(targetdir)\n",
    "        cmd += \" --surveytiles {}/{{surveytiles}}\".format(fibassigndir)\n",
    "        cmd += \" --footprint {tilesfile}\"\n",
    "        #cmd += \" --positioners {}/data/focalplane/fiberpos.fits\".format(os.getenv('DESIMODEL'))\n",
    "        cmd += \" --fibstatusfile {}/fiberstatus.ecsv\".format(codedir)\n",
    "        cmd += \" --outdir {}\".format(fibassigndir)\n",
    "\n",
    "        # Run fiberassign\n",
    "        print('Logging to {}'.format(logfilename)) ; print()\n",
    "        with open(logfilename, 'w') as logfile:\n",
    "            for program in ['dark', 'bright']:\n",
    "                stdfile = 'standards-{}.fits'.format(program)\n",
    "                surveytiles = '{}-tiles.txt'.format(program)\n",
    "                if os.path.isfile(os.path.join(fibassigndir, surveytiles)):\n",
    "                    cmdx = cmd.format(stdfile=stdfile, surveytiles=surveytiles,\n",
    "                                      tilesfile=tilesfile)\n",
    "                    print(cmdx)\n",
    "                \n",
    "                    err = subprocess.call(cmdx.split(), stdout=logfile, stderr=logfile)\n",
    "                    if err != 0:\n",
    "                        print('fiberassign failed err={}; see {}'.format(err, logfilename))\n",
    "        \n",
    "        if is_fiberassign_done(tilesfile, verbose=True):\n",
    "            print('Success; running QA.')\n",
    "            print()\n",
    "            !qa-fiberassign $fibassigndir/tile*.fits --targets $targetdir/targets.fits\n",
    "            #cmd = 'qa-fiberassign {}/tile*.fits'.format(fibassigndir)\n",
    "            #cmd += ' --targets {}/targets.fits'.format(targetdir)\n",
    "            #print(cmd)\n",
    "            #err = subprocess.call(cmd.split(), stdout=subprocess.PIPE)#, stderr=logfile)#, stderr=sys.stderr)\n",
    "        else:\n",
    "            print('ERROR: missing fiberassign output files')\n",
    "        \n",
    "    else:\n",
    "        print('Finished fiber assignment; see log file {}'.format(logfilename))            "
   ]
  },
  {
   "cell_type": "code",
   "execution_count": null,
   "metadata": {},
   "outputs": [],
   "source": [
    "%time run_fiberassign(G02tilesfile, overwrite=overwrite_fiberassign)"
   ]
  },
  {
   "cell_type": "markdown",
   "metadata": {},
   "source": [
    "### Combine surveysim, mocks, and fiberassign into simspec files.\n",
    "\n",
    "[This step took roughly 27 minutes on my laptop with two tiles.]"
   ]
  },
  {
   "cell_type": "code",
   "execution_count": null,
   "metadata": {},
   "outputs": [],
   "source": [
    "def is_newexp_done(explist, verbose=False):    \n",
    "    numnights = len(set(explist['NIGHT']))\n",
    "    nexp = len(explist)  #- 3 arc/night + 3 flat/night + science\n",
    "    simspecfiles = glob.glob(simdatadir+'/*/simspec*.fits')\n",
    "    fibermapfiles = glob.glob(simdatadir+'/*/fibermap*.fits')\n",
    "    if verbose:\n",
    "        print('{}/{} simspec files'.format(len(simspecfiles), nexp))\n",
    "        print('{}/{} fibermap files'.format(len(fibermapfiles), nexp))\n",
    "\n",
    "    if len(simspecfiles) != nexp:\n",
    "        return False\n",
    "    elif len(fibermapfiles) != nexp:\n",
    "        return False\n",
    "    else:\n",
    "        return True"
   ]
  },
  {
   "cell_type": "code",
   "execution_count": null,
   "metadata": {},
   "outputs": [],
   "source": [
    "def run_newexp(tilefile, explist, overwrite=False):\n",
    "    \"\"\"Run newexp.\"\"\"\n",
    "    \n",
    "    logfilename = os.path.join(simdatadir, 'newexp.log')\n",
    "    if overwrite or not is_newexp_done(explist):\n",
    "        logfilename = os.path.join(simdatadir, 'newexp.log')\n",
    "        print('Logging to {}'.format(logfilename))\n",
    "\n",
    "        cmd = \" wrap-newexp --fiberassign {}\".format(fibassigndir)\n",
    "        cmd += \" --mockdir {}\".format(targetdir)\n",
    "        cmd += \" --obslist {}/exposures.fits\".format(surveydir)\n",
    "        cmd += \" --tilefile {}\".format(tilefile)\n",
    "        #cmd += \" --dryrun\"\n",
    "        if overwrite:\n",
    "            cmd += \" --force\"\n",
    "        \n",
    "        print('Starting at {}'.format(time.asctime()))\n",
    "        if 'NERSC_HOST' in os.environ:\n",
    "            nodes = 15\n",
    "            nersc_cmd = \"srun -A desi -N {nodes} -n {nodes} -c 32\".format(nodes=nodes)\n",
    "            nersc_cmd += \" -C haswell -t 00:15:00 --qos interactive\"\n",
    "            cmd = nersc_cmd+cmd\n",
    "        print(cmd)\n",
    "\n",
    "        with open(logfilename, 'w') as logfile:\n",
    "            err = subprocess.call(cmd.split(), stdout=logfile, stderr=logfile)\n",
    "            if err != 0:\n",
    "                print('ERROR {} running wrap-newexp; see {}'.format(err, logfilename))\n",
    "            else:\n",
    "                print('done')            \n",
    "    else:\n",
    "        print('newexp is done')\n",
    "        is_newexp_done(explist, verbose=True)"
   ]
  },
  {
   "cell_type": "code",
   "execution_count": null,
   "metadata": {},
   "outputs": [],
   "source": [
    "%time run_newexp(G02tilesfile, explist, overwrite=overwrite_simspec)"
   ]
  },
  {
   "cell_type": "markdown",
   "metadata": {},
   "source": [
    "### Generate noisy uncalibrated spectra  using fastframe."
   ]
  },
  {
   "cell_type": "code",
   "execution_count": null,
   "metadata": {},
   "outputs": [],
   "source": [
    "def is_fastframe_done(explist, reduxdir, verbose=False):\n",
    "    nflat = np.count_nonzero(explist['FLAVOR'] == 'flat')\n",
    "    nscience = np.count_nonzero(explist['FLAVOR'] == 'science')\n",
    "    nframe = 30*(nflat + nscience)\n",
    "    framefiles = glob.glob(reduxdir+'/exposures/*/*/frame*.fits')\n",
    "    if verbose:\n",
    "        print('{}/{} frame files'.format(len(framefiles), nframe))\n",
    "    \n",
    "    if len(framefiles) != nframe:\n",
    "        return False\n",
    "    else:\n",
    "        return True"
   ]
  },
  {
   "cell_type": "code",
   "execution_count": null,
   "metadata": {},
   "outputs": [],
   "source": [
    "def run_fastframe(overwrite=False):\n",
    "    if is_fastframe_done(explist, reduxdir, verbose=True):\n",
    "        print('fastframe already done; skipping')\n",
    "    else:\n",
    "        logfilename = os.path.join(reduxdir, 'exposures', 'fastframe.log')\n",
    "        os.makedirs(os.path.dirname(logfilename), exist_ok=True)\n",
    "        print('Running fastframe batch job; should take ~7 min')\n",
    "        print('Starting at {}'.format(time.asctime()))\n",
    "        print('Logging to {}'.format(logfilename))\n",
    "        \n",
    "        nodes = 15\n",
    "\n",
    "        cmd = \"srun -A desi -N {nodes} -n {nodes} -c 32 -C haswell -t 00:20:00 --qos interactive\".format(nodes=nodes)\n",
    "        cmd += \" wrap-fastframe --mpi\"\n",
    "        with open(logfilename, 'w') as logfile:\n",
    "            err = subprocess.call(cmd.split(), stdout=logfile, stderr=logfile)\n",
    "            if err != 0:\n",
    "                print('ERROR {} running wrap-fastframe; see {}'.format(err, logfilename))\n",
    "            else:\n",
    "                print('done at {}'.format(time.asctime()))\n",
    "\n",
    "        if is_fastframe_done(explist, reduxdir, verbose=True):\n",
    "            print('SUCCESS')\n",
    "        else:\n",
    "            print('ERROR; see {}'.format(logfilename))"
   ]
  },
  {
   "cell_type": "code",
   "execution_count": null,
   "metadata": {},
   "outputs": [],
   "source": []
  }
 ],
 "metadata": {
  "anaconda-cloud": {},
  "kernelspec": {
   "display_name": "DESI master ioannis",
   "language": "python",
   "name": "desi-master-ioannis"
  },
  "language_info": {
   "codemirror_mode": {
    "name": "ipython",
    "version": 3
   },
   "file_extension": ".py",
   "mimetype": "text/x-python",
   "name": "python",
   "nbconvert_exporter": "python",
   "pygments_lexer": "ipython3",
   "version": "3.6.6"
  }
 },
 "nbformat": 4,
 "nbformat_minor": 2
}
